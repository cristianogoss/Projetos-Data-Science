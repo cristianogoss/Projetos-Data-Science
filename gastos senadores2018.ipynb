{
 "cells": [
  {
   "cell_type": "markdown",
   "metadata": {},
   "source": [
    "Gastos públicos dos senadores (projeto Data Science)\n",
    "\n",
    "Qual senador(a) mais gastou verba pública? \n",
    "Qual senador(a) menos gastou verba pública?\n",
    "Em que foram esses gastos?\n",
    "\n",
    "Foram utilizados dados abertos do Ceaps(Portal da transparência do senado)"
   ]
  },
  {
   "cell_type": "code",
   "execution_count": 30,
   "metadata": {},
   "outputs": [],
   "source": [
    "#Lendo as bibliotecas que usaremos no dataset\n",
    "import pandas as pd\n",
    "import numpy as np\n",
    "import matplotlib as plt\n",
    "import seaborn as sns"
   ]
  },
  {
   "cell_type": "code",
   "execution_count": 31,
   "metadata": {},
   "outputs": [],
   "source": [
    "df = pd.read_csv(\"2018.csv\")#Comando para abrir o dataset"
   ]
  },
  {
   "cell_type": "code",
   "execution_count": 32,
   "metadata": {},
   "outputs": [
    {
     "data": {
      "text/html": [
       "<div>\n",
       "<style scoped>\n",
       "    .dataframe tbody tr th:only-of-type {\n",
       "        vertical-align: middle;\n",
       "    }\n",
       "\n",
       "    .dataframe tbody tr th {\n",
       "        vertical-align: top;\n",
       "    }\n",
       "\n",
       "    .dataframe thead th {\n",
       "        text-align: right;\n",
       "    }\n",
       "</style>\n",
       "<table border=\"1\" class=\"dataframe\">\n",
       "  <thead>\n",
       "    <tr style=\"text-align: right;\">\n",
       "      <th></th>\n",
       "      <th>ANO</th>\n",
       "      <th>MES</th>\n",
       "      <th>SENADOR</th>\n",
       "      <th>TIPO_DESPESA</th>\n",
       "      <th>CNPJ_CPF</th>\n",
       "      <th>FORNECEDOR</th>\n",
       "      <th>DOCUMENTO</th>\n",
       "      <th>DATA</th>\n",
       "      <th>DETALHAMENTO</th>\n",
       "      <th>VALOR_REEMBOLSADO</th>\n",
       "    </tr>\n",
       "  </thead>\n",
       "  <tbody>\n",
       "    <tr>\n",
       "      <th>0</th>\n",
       "      <td>2018.0</td>\n",
       "      <td>1.0</td>\n",
       "      <td>ACIR GURGACZ</td>\n",
       "      <td>Aluguel de imóveis para escritório político, c...</td>\n",
       "      <td>004.948.028-63</td>\n",
       "      <td>GILBERTO PISELO DO NASCIMENTO</td>\n",
       "      <td>NaN</td>\n",
       "      <td>02/01/2018</td>\n",
       "      <td>Despesa com pagamento de aluguel de imóvel par...</td>\n",
       "      <td>6000</td>\n",
       "    </tr>\n",
       "    <tr>\n",
       "      <th>1</th>\n",
       "      <td>2018.0</td>\n",
       "      <td>1.0</td>\n",
       "      <td>ACIR GURGACZ</td>\n",
       "      <td>Passagens aéreas, aquáticas e terrestres nacio...</td>\n",
       "      <td>63.764.211/0001-10</td>\n",
       "      <td>TRANSCONTINENTAL AGÊNCIA DE VIAGENS LTDA</td>\n",
       "      <td>M2CJMM</td>\n",
       "      <td>02/01/2018</td>\n",
       "      <td>Companhia Aérea: AVIANCA, Localizador: M2CJMM....</td>\n",
       "      <td>274,99</td>\n",
       "    </tr>\n",
       "    <tr>\n",
       "      <th>2</th>\n",
       "      <td>2018.0</td>\n",
       "      <td>1.0</td>\n",
       "      <td>ACIR GURGACZ</td>\n",
       "      <td>Passagens aéreas, aquáticas e terrestres nacio...</td>\n",
       "      <td>63.764.211/0001-10</td>\n",
       "      <td>TRANSCONTINENTAL AGÊNCIA DE VIAGENS LTDA</td>\n",
       "      <td>SFEXYF</td>\n",
       "      <td>02/01/2018</td>\n",
       "      <td>Companhia Aérea: LATAM, Localizador: SFEXYF. P...</td>\n",
       "      <td>1094,29</td>\n",
       "    </tr>\n",
       "    <tr>\n",
       "      <th>3</th>\n",
       "      <td>2018.0</td>\n",
       "      <td>1.0</td>\n",
       "      <td>ACIR GURGACZ</td>\n",
       "      <td>Passagens aéreas, aquáticas e terrestres nacio...</td>\n",
       "      <td>63.764.211/0001-10</td>\n",
       "      <td>TRANSCONTINENTAL AGÊNCIA DE VIAGENS LTDA</td>\n",
       "      <td>V64HTR</td>\n",
       "      <td>24/01/2018</td>\n",
       "      <td>Companhia Aérea: AZUL, Localizador: V64HTR. Pa...</td>\n",
       "      <td>1553,99</td>\n",
       "    </tr>\n",
       "    <tr>\n",
       "      <th>4</th>\n",
       "      <td>2018.0</td>\n",
       "      <td>2.0</td>\n",
       "      <td>ACIR GURGACZ</td>\n",
       "      <td>Aluguel de imóveis para escritório político, c...</td>\n",
       "      <td>004.948.028-63</td>\n",
       "      <td>GILBERTO PISELO DO NASCIMENTO</td>\n",
       "      <td>002/18</td>\n",
       "      <td>01/02/2018</td>\n",
       "      <td>Despesa com pagamento de aluguel de imóvel par...</td>\n",
       "      <td>6000</td>\n",
       "    </tr>\n",
       "  </tbody>\n",
       "</table>\n",
       "</div>"
      ],
      "text/plain": [
       "      ANO  MES       SENADOR  \\\n",
       "0  2018.0  1.0  ACIR GURGACZ   \n",
       "1  2018.0  1.0  ACIR GURGACZ   \n",
       "2  2018.0  1.0  ACIR GURGACZ   \n",
       "3  2018.0  1.0  ACIR GURGACZ   \n",
       "4  2018.0  2.0  ACIR GURGACZ   \n",
       "\n",
       "                                        TIPO_DESPESA            CNPJ_CPF  \\\n",
       "0  Aluguel de imóveis para escritório político, c...      004.948.028-63   \n",
       "1  Passagens aéreas, aquáticas e terrestres nacio...  63.764.211/0001-10   \n",
       "2  Passagens aéreas, aquáticas e terrestres nacio...  63.764.211/0001-10   \n",
       "3  Passagens aéreas, aquáticas e terrestres nacio...  63.764.211/0001-10   \n",
       "4  Aluguel de imóveis para escritório político, c...      004.948.028-63   \n",
       "\n",
       "                                 FORNECEDOR DOCUMENTO        DATA  \\\n",
       "0             GILBERTO PISELO DO NASCIMENTO       NaN  02/01/2018   \n",
       "1  TRANSCONTINENTAL AGÊNCIA DE VIAGENS LTDA    M2CJMM  02/01/2018   \n",
       "2  TRANSCONTINENTAL AGÊNCIA DE VIAGENS LTDA    SFEXYF  02/01/2018   \n",
       "3  TRANSCONTINENTAL AGÊNCIA DE VIAGENS LTDA    V64HTR  24/01/2018   \n",
       "4             GILBERTO PISELO DO NASCIMENTO    002/18  01/02/2018   \n",
       "\n",
       "                                        DETALHAMENTO VALOR_REEMBOLSADO  \n",
       "0  Despesa com pagamento de aluguel de imóvel par...              6000  \n",
       "1  Companhia Aérea: AVIANCA, Localizador: M2CJMM....            274,99  \n",
       "2  Companhia Aérea: LATAM, Localizador: SFEXYF. P...           1094,29  \n",
       "3  Companhia Aérea: AZUL, Localizador: V64HTR. Pa...           1553,99  \n",
       "4  Despesa com pagamento de aluguel de imóvel par...              6000  "
      ]
     },
     "execution_count": 32,
     "metadata": {},
     "output_type": "execute_result"
    }
   ],
   "source": [
    "df.head()#lendo as 5 primeiras linhas do dataset"
   ]
  },
  {
   "cell_type": "code",
   "execution_count": 33,
   "metadata": {},
   "outputs": [
    {
     "data": {
      "text/plain": [
       "array([[<matplotlib.axes._subplots.AxesSubplot object at 0x7ffad65ace48>,\n",
       "        <matplotlib.axes._subplots.AxesSubplot object at 0x7ffad65d8198>]],\n",
       "      dtype=object)"
      ]
     },
     "execution_count": 33,
     "metadata": {},
     "output_type": "execute_result"
    },
    {
     "data": {
      "image/png": "[encoded data removed]",
      "text/plain": [
       "<Figure size 432x288 with 2 Axes>"
      ]
     },
     "metadata": {
      "needs_background": "light"
     },
     "output_type": "display_data"
    }
   ],
   "source": [
    "df.hist()"
   ]
  },
  {
   "cell_type": "code",
   "execution_count": 34,
   "metadata": {},
   "outputs": [
    {
     "data": {
      "text/plain": [
       "ANO                  float64\n",
       "MES                  float64\n",
       "SENADOR               object\n",
       "TIPO_DESPESA          object\n",
       "CNPJ_CPF              object\n",
       "FORNECEDOR            object\n",
       "DOCUMENTO             object\n",
       "DATA                  object\n",
       "DETALHAMENTO          object\n",
       "VALOR_REEMBOLSADO     object\n",
       "dtype: object"
      ]
     },
     "execution_count": 34,
     "metadata": {},
     "output_type": "execute_result"
    }
   ],
   "source": [
    "df.dtypes"
   ]
  },
  {
   "cell_type": "code",
   "execution_count": 35,
   "metadata": {},
   "outputs": [
    {
     "data": {
      "text/plain": [
       "ANO                     1\n",
       "MES                     1\n",
       "SENADOR                 1\n",
       "TIPO_DESPESA            1\n",
       "CNPJ_CPF                1\n",
       "FORNECEDOR              1\n",
       "DOCUMENTO            1017\n",
       "DATA                    1\n",
       "DETALHAMENTO         5611\n",
       "VALOR_REEMBOLSADO       1\n",
       "dtype: int64"
      ]
     },
     "execution_count": 35,
     "metadata": {},
     "output_type": "execute_result"
    }
   ],
   "source": [
    "df.isnull().sum()#Valores nulos no dataset"
   ]
  },
  {
   "cell_type": "code",
   "execution_count": 36,
   "metadata": {},
   "outputs": [],
   "source": [
    "df.dropna(inplace=True)#Excluindo linhas que não possuem valor "
   ]
  },
  {
   "cell_type": "code",
   "execution_count": 37,
   "metadata": {},
   "outputs": [],
   "source": [
    "#Convertendo a coluna \"VALOR_REEMBOLSADO\" de string para float, afim de realizar cálculos matemáticos\n",
    "df[\"VALOR_REEMBOLSADO\"] = df[\"VALOR_REEMBOLSADO\"].str.replace(',', \".\").astype('float')"
   ]
  },
  {
   "cell_type": "code",
   "execution_count": 38,
   "metadata": {},
   "outputs": [
    {
     "data": {
      "text/plain": [
       "ANO                  float64\n",
       "MES                  float64\n",
       "SENADOR               object\n",
       "TIPO_DESPESA          object\n",
       "CNPJ_CPF              object\n",
       "FORNECEDOR            object\n",
       "DOCUMENTO             object\n",
       "DATA                  object\n",
       "DETALHAMENTO          object\n",
       "VALOR_REEMBOLSADO    float64\n",
       "dtype: object"
      ]
     },
     "execution_count": 38,
     "metadata": {},
     "output_type": "execute_result"
    }
   ],
   "source": [
    "df.dtypes"
   ]
  },
  {
   "cell_type": "code",
   "execution_count": 39,
   "metadata": {},
   "outputs": [],
   "source": [
    "gastospoliticos= {}# Dicionário criado onde vai armazenar o politico e seu gasto"
   ]
  },
  {
   "cell_type": "code",
   "execution_count": 40,
   "metadata": {},
   "outputs": [],
   "source": [
    "politicos = df['SENADOR'].unique()#estabelece o nome de cada senador presente no arquivo"
   ]
  },
  {
   "cell_type": "code",
   "execution_count": 41,
   "metadata": {},
   "outputs": [
    {
     "data": {
      "text/plain": [
       "array(['ACIR GURGACZ', 'AÉCIO NEVES', 'AIRTON SANDOVAL', 'ALVARO DIAS',\n",
       "       'ANA AMÉLIA', 'ÂNGELA PORTELA', 'ANTONIO ANASTASIA',\n",
       "       'ANTÔNIO CARLOS VALADARES', 'ARMANDO MONTEIRO', 'ATAÍDES OLIVEIRA'],\n",
       "      dtype=object)"
      ]
     },
     "execution_count": 41,
     "metadata": {},
     "output_type": "execute_result"
    }
   ],
   "source": [
    "politicos[0:10]#Alguns políticos contidos no arquivo"
   ]
  },
  {
   "cell_type": "code",
   "execution_count": 42,
   "metadata": {},
   "outputs": [],
   "source": [
    "for z in politicos:\n",
    "    z_nomes = df[df['SENADOR']==z]\n",
    "    totalgastos = z_nomes['VALOR_REEMBOLSADO'].sum()#Soma todas as contas do senador\n",
    "    gastospoliticos[z] = totalgastos#criando chave e valor no dicionário\n",
    "    gastos_senador = pd.DataFrame.from_dict(gastospoliticos, orient = 'index')#criando dataframe com base nodicioário\n",
    "    gastos_senador.columns = ['VALOR_REEMBOLSADO']#Renomeando a coluna com valores\n",
    "    \n",
    "    \n",
    "    "
   ]
  },
  {
   "cell_type": "code",
   "execution_count": 43,
   "metadata": {},
   "outputs": [
    {
     "data": {
      "text/html": [
       "<div>\n",
       "<style scoped>\n",
       "    .dataframe tbody tr th:only-of-type {\n",
       "        vertical-align: middle;\n",
       "    }\n",
       "\n",
       "    .dataframe tbody tr th {\n",
       "        vertical-align: top;\n",
       "    }\n",
       "\n",
       "    .dataframe thead th {\n",
       "        text-align: right;\n",
       "    }\n",
       "</style>\n",
       "<table border=\"1\" class=\"dataframe\">\n",
       "  <thead>\n",
       "    <tr style=\"text-align: right;\">\n",
       "      <th></th>\n",
       "      <th>VALOR_REEMBOLSADO</th>\n",
       "    </tr>\n",
       "  </thead>\n",
       "  <tbody>\n",
       "    <tr>\n",
       "      <th>ACIR GURGACZ</th>\n",
       "      <td>311797.29</td>\n",
       "    </tr>\n",
       "    <tr>\n",
       "      <th>AÉCIO NEVES</th>\n",
       "      <td>247722.97</td>\n",
       "    </tr>\n",
       "    <tr>\n",
       "      <th>AIRTON SANDOVAL</th>\n",
       "      <td>182856.83</td>\n",
       "    </tr>\n",
       "    <tr>\n",
       "      <th>ALVARO DIAS</th>\n",
       "      <td>39660.38</td>\n",
       "    </tr>\n",
       "    <tr>\n",
       "      <th>ANA AMÉLIA</th>\n",
       "      <td>147226.50</td>\n",
       "    </tr>\n",
       "  </tbody>\n",
       "</table>\n",
       "</div>"
      ],
      "text/plain": [
       "                 VALOR_REEMBOLSADO\n",
       "ACIR GURGACZ             311797.29\n",
       "AÉCIO NEVES              247722.97\n",
       "AIRTON SANDOVAL          182856.83\n",
       "ALVARO DIAS               39660.38\n",
       "ANA AMÉLIA               147226.50"
      ]
     },
     "execution_count": 43,
     "metadata": {},
     "output_type": "execute_result"
    }
   ],
   "source": [
    "gastos_senador.head()#Primeiras linhas do dataframe criado"
   ]
  },
  {
   "cell_type": "code",
   "execution_count": 44,
   "metadata": {
    "scrolled": true
   },
   "outputs": [
    {
     "data": {
      "text/plain": [
       "<matplotlib.axes._subplots.AxesSubplot at 0x7ffad71ec4a8>"
      ]
     },
     "execution_count": 44,
     "metadata": {},
     "output_type": "execute_result"
    },
    {
     "data": {
      "image/png": "[encoded data removed]",
      "text/plain": [
       "<Figure size 720x360 with 1 Axes>"
      ]
     },
     "metadata": {
      "needs_background": "light"
     },
     "output_type": "display_data"
    }
   ],
   "source": [
    "gastos_senador = gastos_senador.sort_values('VALOR_REEMBOLSADO', ascending=False)#Colocando em ordem os valores\n",
    "gastos_senador.head(10).plot(kind = 'barh', figsize=(10,5), color='red', legend=False, grid=True, alpha=0.7)\n"
   ]
  },
  {
   "cell_type": "code",
   "execution_count": null,
   "metadata": {},
   "outputs": [],
   "source": [
    "#Senadora Vanessa Grazziotin aparenta ter os maiores gastos no ano, vamos dar uma conferida nos seus gastos"
   ]
  },
  {
   "cell_type": "code",
   "execution_count": 45,
   "metadata": {},
   "outputs": [],
   "source": [
    "sen_maiorgasto = df[df['SENADOR'] == 'VANESSA GRAZZIOTIN'].reset_index()"
   ]
  },
  {
   "cell_type": "code",
   "execution_count": 46,
   "metadata": {},
   "outputs": [
    {
     "data": {
      "text/plain": [
       "332"
      ]
     },
     "execution_count": 46,
     "metadata": {},
     "output_type": "execute_result"
    }
   ],
   "source": [
    "sen_maiorgasto.shape[0]#Mostra quantas linhas tem o arquivo"
   ]
  },
  {
   "cell_type": "code",
   "execution_count": 47,
   "metadata": {},
   "outputs": [
    {
     "data": {
      "text/html": [
       "<div>\n",
       "<style scoped>\n",
       "    .dataframe tbody tr th:only-of-type {\n",
       "        vertical-align: middle;\n",
       "    }\n",
       "\n",
       "    .dataframe tbody tr th {\n",
       "        vertical-align: top;\n",
       "    }\n",
       "\n",
       "    .dataframe thead th {\n",
       "        text-align: right;\n",
       "    }\n",
       "</style>\n",
       "<table border=\"1\" class=\"dataframe\">\n",
       "  <thead>\n",
       "    <tr style=\"text-align: right;\">\n",
       "      <th></th>\n",
       "      <th>index</th>\n",
       "      <th>ANO</th>\n",
       "      <th>MES</th>\n",
       "      <th>SENADOR</th>\n",
       "      <th>TIPO_DESPESA</th>\n",
       "      <th>CNPJ_CPF</th>\n",
       "      <th>FORNECEDOR</th>\n",
       "      <th>DOCUMENTO</th>\n",
       "      <th>DATA</th>\n",
       "      <th>DETALHAMENTO</th>\n",
       "      <th>VALOR_REEMBOLSADO</th>\n",
       "    </tr>\n",
       "  </thead>\n",
       "  <tbody>\n",
       "    <tr>\n",
       "      <th>0</th>\n",
       "      <td>22332</td>\n",
       "      <td>2018.0</td>\n",
       "      <td>1.0</td>\n",
       "      <td>VANESSA GRAZZIOTIN</td>\n",
       "      <td>Aluguel de imóveis para escritório político, c...</td>\n",
       "      <td>40.432.544/0243-21</td>\n",
       "      <td>CLARO S.A.</td>\n",
       "      <td>68517</td>\n",
       "      <td>17/01/2018</td>\n",
       "      <td>ACESSO À INTERNET</td>\n",
       "      <td>447.78</td>\n",
       "    </tr>\n",
       "    <tr>\n",
       "      <th>1</th>\n",
       "      <td>22333</td>\n",
       "      <td>2018.0</td>\n",
       "      <td>1.0</td>\n",
       "      <td>VANESSA GRAZZIOTIN</td>\n",
       "      <td>Aluguel de imóveis para escritório político, c...</td>\n",
       "      <td>33.000.118/0007-64</td>\n",
       "      <td>OI FIXO-TELEMAR NORTE LESTE S/A</td>\n",
       "      <td>37189</td>\n",
       "      <td>19/01/2018</td>\n",
       "      <td>FATURA TELEFONE FIXO ESCRITÓRIO POLÍTICO</td>\n",
       "      <td>319.57</td>\n",
       "    </tr>\n",
       "    <tr>\n",
       "      <th>2</th>\n",
       "      <td>22334</td>\n",
       "      <td>2018.0</td>\n",
       "      <td>1.0</td>\n",
       "      <td>VANESSA GRAZZIOTIN</td>\n",
       "      <td>Aluguel de imóveis para escritório político, c...</td>\n",
       "      <td>33.000.118/0007-64</td>\n",
       "      <td>OI FIXO-TELEMAR NORTE LESTE S/A</td>\n",
       "      <td>44049</td>\n",
       "      <td>22/01/2018</td>\n",
       "      <td>FATURA TELEFONE FIXO ESCRITÓRIO POLÍTICO</td>\n",
       "      <td>173.87</td>\n",
       "    </tr>\n",
       "    <tr>\n",
       "      <th>3</th>\n",
       "      <td>22335</td>\n",
       "      <td>2018.0</td>\n",
       "      <td>1.0</td>\n",
       "      <td>VANESSA GRAZZIOTIN</td>\n",
       "      <td>Aluguel de imóveis para escritório político, c...</td>\n",
       "      <td>033.515.338-02</td>\n",
       "      <td>RAUL ARMONIA ZAIDAN</td>\n",
       "      <td>S/N</td>\n",
       "      <td>05/01/2018</td>\n",
       "      <td>ALUGUEL DE IMÓVEL PARA ESCRITÓRIO POLÍTICO</td>\n",
       "      <td>2178.39</td>\n",
       "    </tr>\n",
       "    <tr>\n",
       "      <th>4</th>\n",
       "      <td>22336</td>\n",
       "      <td>2018.0</td>\n",
       "      <td>1.0</td>\n",
       "      <td>VANESSA GRAZZIOTIN</td>\n",
       "      <td>Aluguel de imóveis para escritório político, c...</td>\n",
       "      <td>02.558.157/0001-62</td>\n",
       "      <td>VIVO - TELEFÔNICA BRASIL S.A.</td>\n",
       "      <td>415884</td>\n",
       "      <td>18/01/2018</td>\n",
       "      <td>FATURA TELEFONE CELULAR ESCRITÓRIO POLÍTICO</td>\n",
       "      <td>194.82</td>\n",
       "    </tr>\n",
       "  </tbody>\n",
       "</table>\n",
       "</div>"
      ],
      "text/plain": [
       "   index     ANO  MES             SENADOR  \\\n",
       "0  22332  2018.0  1.0  VANESSA GRAZZIOTIN   \n",
       "1  22333  2018.0  1.0  VANESSA GRAZZIOTIN   \n",
       "2  22334  2018.0  1.0  VANESSA GRAZZIOTIN   \n",
       "3  22335  2018.0  1.0  VANESSA GRAZZIOTIN   \n",
       "4  22336  2018.0  1.0  VANESSA GRAZZIOTIN   \n",
       "\n",
       "                                        TIPO_DESPESA            CNPJ_CPF  \\\n",
       "0  Aluguel de imóveis para escritório político, c...  40.432.544/0243-21   \n",
       "1  Aluguel de imóveis para escritório político, c...  33.000.118/0007-64   \n",
       "2  Aluguel de imóveis para escritório político, c...  33.000.118/0007-64   \n",
       "3  Aluguel de imóveis para escritório político, c...      033.515.338-02   \n",
       "4  Aluguel de imóveis para escritório político, c...  02.558.157/0001-62   \n",
       "\n",
       "                        FORNECEDOR DOCUMENTO        DATA  \\\n",
       "0                       CLARO S.A.     68517  17/01/2018   \n",
       "1  OI FIXO-TELEMAR NORTE LESTE S/A     37189  19/01/2018   \n",
       "2  OI FIXO-TELEMAR NORTE LESTE S/A     44049  22/01/2018   \n",
       "3              RAUL ARMONIA ZAIDAN       S/N  05/01/2018   \n",
       "4    VIVO - TELEFÔNICA BRASIL S.A.    415884  18/01/2018   \n",
       "\n",
       "                                  DETALHAMENTO  VALOR_REEMBOLSADO  \n",
       "0                            ACESSO À INTERNET             447.78  \n",
       "1     FATURA TELEFONE FIXO ESCRITÓRIO POLÍTICO             319.57  \n",
       "2     FATURA TELEFONE FIXO ESCRITÓRIO POLÍTICO             173.87  \n",
       "3   ALUGUEL DE IMÓVEL PARA ESCRITÓRIO POLÍTICO            2178.39  \n",
       "4  FATURA TELEFONE CELULAR ESCRITÓRIO POLÍTICO             194.82  "
      ]
     },
     "execution_count": 47,
     "metadata": {},
     "output_type": "execute_result"
    }
   ],
   "source": [
    "sen_maiorgasto.head()#lendo o dataframe criado"
   ]
  },
  {
   "cell_type": "code",
   "execution_count": 48,
   "metadata": {},
   "outputs": [
    {
     "data": {
      "text/html": [
       "<div>\n",
       "<style scoped>\n",
       "    .dataframe tbody tr th:only-of-type {\n",
       "        vertical-align: middle;\n",
       "    }\n",
       "\n",
       "    .dataframe tbody tr th {\n",
       "        vertical-align: top;\n",
       "    }\n",
       "\n",
       "    .dataframe thead th {\n",
       "        text-align: right;\n",
       "    }\n",
       "</style>\n",
       "<table border=\"1\" class=\"dataframe\">\n",
       "  <thead>\n",
       "    <tr style=\"text-align: right;\">\n",
       "      <th></th>\n",
       "      <th>VALOR_REEMBOLSADO</th>\n",
       "    </tr>\n",
       "    <tr>\n",
       "      <th>TIPO_DESPESA</th>\n",
       "      <th></th>\n",
       "    </tr>\n",
       "  </thead>\n",
       "  <tbody>\n",
       "    <tr>\n",
       "      <th>Contratação de consultorias, assessorias, pesquisas, trabalhos técnicos e outros serviços de apoio ao exercício do mandato parlamentar</th>\n",
       "      <td>241638.40</td>\n",
       "    </tr>\n",
       "    <tr>\n",
       "      <th>Passagens aéreas, aquáticas e terrestres nacionais</th>\n",
       "      <td>135807.68</td>\n",
       "    </tr>\n",
       "    <tr>\n",
       "      <th>Locomoção, hospedagem, alimentação, combustíveis e lubrificantes</th>\n",
       "      <td>48843.55</td>\n",
       "    </tr>\n",
       "    <tr>\n",
       "      <th>Aluguel de imóveis para escritório político, compreendendo despesas concernentes a eles.</th>\n",
       "      <td>45473.52</td>\n",
       "    </tr>\n",
       "    <tr>\n",
       "      <th>Divulgação da atividade parlamentar</th>\n",
       "      <td>28587.20</td>\n",
       "    </tr>\n",
       "    <tr>\n",
       "      <th>Aquisição de material de consumo para uso no escritório político, inclusive aquisição ou locação de software, despesas postais, aquisição de publicações, locação de móveis e de equipamentos.</th>\n",
       "      <td>3825.29</td>\n",
       "    </tr>\n",
       "  </tbody>\n",
       "</table>\n",
       "</div>"
      ],
      "text/plain": [
       "                                                    VALOR_REEMBOLSADO\n",
       "TIPO_DESPESA                                                         \n",
       "Contratação de consultorias, assessorias, pesqu...          241638.40\n",
       "Passagens aéreas, aquáticas e terrestres nacionais          135807.68\n",
       "Locomoção, hospedagem, alimentação, combustívei...           48843.55\n",
       "Aluguel de imóveis para escritório político, co...           45473.52\n",
       "Divulgação da atividade parlamentar                          28587.20\n",
       "Aquisição de material de consumo para uso no es...            3825.29"
      ]
     },
     "execution_count": 48,
     "metadata": {},
     "output_type": "execute_result"
    }
   ],
   "source": [
    "#Criando uma função que retorna os gastos da senadora\n",
    "def cat_gastos(senador):\n",
    "    nome_senador = df[df['SENADOR'] == senador]\n",
    "    nome_senador = nome_senador.groupby('TIPO_DESPESA')[['SENADOR', 'VALOR_REEMBOLSADO']].sum()\n",
    "    return nome_senador\n",
    "\n",
    "vanessa_grazziotin_gastos = cat_gastos('VANESSA GRAZZIOTIN')\n",
    "vanessa_grazziotin_gastos.sort_values(by='VALOR_REEMBOLSADO', ascending = False)"
   ]
  },
  {
   "cell_type": "code",
   "execution_count": 63,
   "metadata": {},
   "outputs": [
    {
     "data": {
      "text/plain": [
       "<matplotlib.axes._subplots.AxesSubplot at 0x7ffad6e84588>"
      ]
     },
     "execution_count": 63,
     "metadata": {},
     "output_type": "execute_result"
    },
    {
     "data": {
      "image/png": "[encoded data removed]",
      "text/plain": [
       "<Figure size 648x360 with 1 Axes>"
      ]
     },
     "metadata": {
      "needs_background": "light"
     },
     "output_type": "display_data"
    }
   ],
   "source": [
    "#Abrindo o matplotlib e visualizando os gastos por mês\n",
    "despesa = sen_maiorgasto[sen_maiorgasto['TIPO_DESPESA'] == 'Contratação de consultorias, assessorias, pesquisas, trabalhos técnicos e outros serviços de apoio ao exercício do mandato parlamentar']\n",
    "plot_despesa = despesa.groupby('MES')['VALOR_REEMBOLSADO'].sum()\n",
    "plot_despesa.plot(title = 'Gastos por mês da senadora Vanessa Grazziotin', color = 'red', figsize=(9,5), grid=True)\n",
    "\n",
    "                         "
   ]
  },
  {
   "cell_type": "code",
   "execution_count": null,
   "metadata": {},
   "outputs": [],
   "source": [
    "#Agora vamos dar uma visualizada no senador que teve os menores gastos"
   ]
  },
  {
   "cell_type": "code",
   "execution_count": 64,
   "metadata": {},
   "outputs": [
    {
     "data": {
      "text/plain": [
       "<matplotlib.axes._subplots.AxesSubplot at 0x7ffad6dafef0>"
      ]
     },
     "execution_count": 64,
     "metadata": {},
     "output_type": "execute_result"
    },
    {
     "data": {
      "image/png": "[encoded data removed]",
      "text/plain": [
       "<Figure size 720x360 with 1 Axes>"
      ]
     },
     "metadata": {
      "needs_background": "light"
     },
     "output_type": "display_data"
    }
   ],
   "source": [
    "gastos_senador = gastos_senador.sort_values('VALOR_REEMBOLSADO', ascending=True)\n",
    "gastos_senador.head(10).plot(kind = 'barh', figsize=(10,5), color='red', legend=False, grid=True, alpha=0.7)\n"
   ]
  },
  {
   "cell_type": "markdown",
   "metadata": {},
   "source": [
    "Aparentemente a senadora Ione Guimarães teve o menor gasto, mas há um porém, ela trabalhou apenas dois meses antes do recesso do fim de ano"
   ]
  },
  {
   "cell_type": "code",
   "execution_count": 65,
   "metadata": {},
   "outputs": [],
   "source": [
    "sen_menorgasto = df[df['SENADOR'] == 'IONE GUIMARÃES'].reset_index()"
   ]
  },
  {
   "cell_type": "code",
   "execution_count": 67,
   "metadata": {},
   "outputs": [
    {
     "data": {
      "text/plain": [
       "44"
      ]
     },
     "execution_count": 67,
     "metadata": {},
     "output_type": "execute_result"
    }
   ],
   "source": [
    "sen_menorgasto.shape[0]#Visualizando quantas linhas há no dataframe"
   ]
  },
  {
   "cell_type": "code",
   "execution_count": 68,
   "metadata": {},
   "outputs": [
    {
     "data": {
      "text/html": [
       "<div>\n",
       "<style scoped>\n",
       "    .dataframe tbody tr th:only-of-type {\n",
       "        vertical-align: middle;\n",
       "    }\n",
       "\n",
       "    .dataframe tbody tr th {\n",
       "        vertical-align: top;\n",
       "    }\n",
       "\n",
       "    .dataframe thead th {\n",
       "        text-align: right;\n",
       "    }\n",
       "</style>\n",
       "<table border=\"1\" class=\"dataframe\">\n",
       "  <thead>\n",
       "    <tr style=\"text-align: right;\">\n",
       "      <th></th>\n",
       "      <th>index</th>\n",
       "      <th>ANO</th>\n",
       "      <th>MES</th>\n",
       "      <th>SENADOR</th>\n",
       "      <th>TIPO_DESPESA</th>\n",
       "      <th>CNPJ_CPF</th>\n",
       "      <th>FORNECEDOR</th>\n",
       "      <th>DOCUMENTO</th>\n",
       "      <th>DATA</th>\n",
       "      <th>DETALHAMENTO</th>\n",
       "      <th>VALOR_REEMBOLSADO</th>\n",
       "    </tr>\n",
       "  </thead>\n",
       "  <tbody>\n",
       "    <tr>\n",
       "      <th>0</th>\n",
       "      <td>9193</td>\n",
       "      <td>2018.0</td>\n",
       "      <td>9.0</td>\n",
       "      <td>IONE GUIMARÃES</td>\n",
       "      <td>Aluguel de imóveis para escritório político, c...</td>\n",
       "      <td>40.432.544/0436-28</td>\n",
       "      <td>Claro S.A</td>\n",
       "      <td>0</td>\n",
       "      <td>15/09/2018</td>\n",
       "      <td>Despesa com pagamento de Pacote de TV por assi...</td>\n",
       "      <td>171.87</td>\n",
       "    </tr>\n",
       "    <tr>\n",
       "      <th>1</th>\n",
       "      <td>9194</td>\n",
       "      <td>2018.0</td>\n",
       "      <td>9.0</td>\n",
       "      <td>IONE GUIMARÃES</td>\n",
       "      <td>Aluguel de imóveis para escritório político, c...</td>\n",
       "      <td>01.543.032/0001-04</td>\n",
       "      <td>Enel Distribuição de Energia.</td>\n",
       "      <td>824227</td>\n",
       "      <td>12/09/2018</td>\n",
       "      <td>Pagamento de energia elétrica do escritório po...</td>\n",
       "      <td>105.61</td>\n",
       "    </tr>\n",
       "    <tr>\n",
       "      <th>2</th>\n",
       "      <td>9195</td>\n",
       "      <td>2018.0</td>\n",
       "      <td>9.0</td>\n",
       "      <td>IONE GUIMARÃES</td>\n",
       "      <td>Aluguel de imóveis para escritório político, c...</td>\n",
       "      <td>01.543.032/0001-04</td>\n",
       "      <td>Enel Distribuição de Energia.</td>\n",
       "      <td>8242264</td>\n",
       "      <td>27/09/2018</td>\n",
       "      <td>Despesa com energia elétrica do escritório pol...</td>\n",
       "      <td>42.12</td>\n",
       "    </tr>\n",
       "    <tr>\n",
       "      <th>3</th>\n",
       "      <td>9196</td>\n",
       "      <td>2018.0</td>\n",
       "      <td>9.0</td>\n",
       "      <td>IONE GUIMARÃES</td>\n",
       "      <td>Aluguel de imóveis para escritório político, c...</td>\n",
       "      <td>02.266.468/0001-58</td>\n",
       "      <td>Urbs Imobiliária</td>\n",
       "      <td>189016</td>\n",
       "      <td>01/10/2018</td>\n",
       "      <td>Pagamento de aluguel do escritório político.</td>\n",
       "      <td>1200.00</td>\n",
       "    </tr>\n",
       "    <tr>\n",
       "      <th>4</th>\n",
       "      <td>9197</td>\n",
       "      <td>2018.0</td>\n",
       "      <td>9.0</td>\n",
       "      <td>IONE GUIMARÃES</td>\n",
       "      <td>Locomoção, hospedagem, alimentação, combustíve...</td>\n",
       "      <td>00.285.353/0001-85</td>\n",
       "      <td>Arvoredo Lanches Eireli EPP</td>\n",
       "      <td>2929</td>\n",
       "      <td>14/09/2018</td>\n",
       "      <td>Despesa com refeição e bebida não alcoólica pa...</td>\n",
       "      <td>105.49</td>\n",
       "    </tr>\n",
       "  </tbody>\n",
       "</table>\n",
       "</div>"
      ],
      "text/plain": [
       "   index     ANO  MES         SENADOR  \\\n",
       "0   9193  2018.0  9.0  IONE GUIMARÃES   \n",
       "1   9194  2018.0  9.0  IONE GUIMARÃES   \n",
       "2   9195  2018.0  9.0  IONE GUIMARÃES   \n",
       "3   9196  2018.0  9.0  IONE GUIMARÃES   \n",
       "4   9197  2018.0  9.0  IONE GUIMARÃES   \n",
       "\n",
       "                                        TIPO_DESPESA            CNPJ_CPF  \\\n",
       "0  Aluguel de imóveis para escritório político, c...  40.432.544/0436-28   \n",
       "1  Aluguel de imóveis para escritório político, c...  01.543.032/0001-04   \n",
       "2  Aluguel de imóveis para escritório político, c...  01.543.032/0001-04   \n",
       "3  Aluguel de imóveis para escritório político, c...  02.266.468/0001-58   \n",
       "4  Locomoção, hospedagem, alimentação, combustíve...  00.285.353/0001-85   \n",
       "\n",
       "                      FORNECEDOR DOCUMENTO        DATA  \\\n",
       "0                      Claro S.A         0  15/09/2018   \n",
       "1  Enel Distribuição de Energia.    824227  12/09/2018   \n",
       "2  Enel Distribuição de Energia.   8242264  27/09/2018   \n",
       "3               Urbs Imobiliária    189016  01/10/2018   \n",
       "4    Arvoredo Lanches Eireli EPP      2929  14/09/2018   \n",
       "\n",
       "                                        DETALHAMENTO  VALOR_REEMBOLSADO  \n",
       "0  Despesa com pagamento de Pacote de TV por assi...             171.87  \n",
       "1  Pagamento de energia elétrica do escritório po...             105.61  \n",
       "2  Despesa com energia elétrica do escritório pol...              42.12  \n",
       "3       Pagamento de aluguel do escritório político.            1200.00  \n",
       "4  Despesa com refeição e bebida não alcoólica pa...             105.49  "
      ]
     },
     "execution_count": 68,
     "metadata": {},
     "output_type": "execute_result"
    }
   ],
   "source": [
    "sen_menorgasto.head()#Visualizando as 5 primeiras linhas do dataframe"
   ]
  },
  {
   "cell_type": "code",
   "execution_count": 69,
   "metadata": {},
   "outputs": [
    {
     "data": {
      "text/html": [
       "<div>\n",
       "<style scoped>\n",
       "    .dataframe tbody tr th:only-of-type {\n",
       "        vertical-align: middle;\n",
       "    }\n",
       "\n",
       "    .dataframe tbody tr th {\n",
       "        vertical-align: top;\n",
       "    }\n",
       "\n",
       "    .dataframe thead th {\n",
       "        text-align: right;\n",
       "    }\n",
       "</style>\n",
       "<table border=\"1\" class=\"dataframe\">\n",
       "  <thead>\n",
       "    <tr style=\"text-align: right;\">\n",
       "      <th></th>\n",
       "      <th>VALOR_REEMBOLSADO</th>\n",
       "    </tr>\n",
       "    <tr>\n",
       "      <th>TIPO_DESPESA</th>\n",
       "      <th></th>\n",
       "    </tr>\n",
       "  </thead>\n",
       "  <tbody>\n",
       "    <tr>\n",
       "      <th>Locomoção, hospedagem, alimentação, combustíveis e lubrificantes</th>\n",
       "      <td>9382.62</td>\n",
       "    </tr>\n",
       "    <tr>\n",
       "      <th>Aluguel de imóveis para escritório político, compreendendo despesas concernentes a eles.</th>\n",
       "      <td>1997.29</td>\n",
       "    </tr>\n",
       "  </tbody>\n",
       "</table>\n",
       "</div>"
      ],
      "text/plain": [
       "                                                    VALOR_REEMBOLSADO\n",
       "TIPO_DESPESA                                                         \n",
       "Locomoção, hospedagem, alimentação, combustívei...            9382.62\n",
       "Aluguel de imóveis para escritório político, co...            1997.29"
      ]
     },
     "execution_count": 69,
     "metadata": {},
     "output_type": "execute_result"
    }
   ],
   "source": [
    "#Onde a senadora obteve os maiores gastos:\n",
    "ione_guimarães_gastos = cat_gastos('IONE GUIMARÃES')\n",
    "ione_guimarães_gastos.sort_values(by='VALOR_REEMBOLSADO', ascending = False)"
   ]
  },
  {
   "cell_type": "code",
   "execution_count": 71,
   "metadata": {},
   "outputs": [
    {
     "data": {
      "text/plain": [
       "<matplotlib.axes._subplots.AxesSubplot at 0x7ffad6d58be0>"
      ]
     },
     "execution_count": 71,
     "metadata": {},
     "output_type": "execute_result"
    },
    {
     "data": {
      "image/png": "[encoded data removed]",
      "text/plain": [
       "<Figure size 648x360 with 1 Axes>"
      ]
     },
     "metadata": {
      "needs_background": "light"
     },
     "output_type": "display_data"
    }
   ],
   "source": [
    "despesa_menor = sen_menorgasto[sen_menorgasto['TIPO_DESPESA'] == 'Locomoção, hospedagem, alimentação, combustíveis e lubrificantes']\n",
    "plot_despesa_menor = despesa_menor.groupby('MES')['VALOR_REEMBOLSADO'].sum()\n",
    "plot_despesa_menor.plot(title = 'Gastos por mês da senadora Vanessa Grazziotin', color = 'red', figsize=(9,5), grid=True)"
   ]
  }
 ],
 "metadata": {
  "kernelspec": {
   "display_name": "Python 3",
   "language": "python",
   "name": "python3"
  },
  "language_info": {
   "codemirror_mode": {
    "name": "ipython",
    "version": 3
   },
   "file_extension": ".py",
   "mimetype": "text/x-python",
   "name": "python",
   "nbconvert_exporter": "python",
   "pygments_lexer": "ipython3",
   "version": "3.7.3"
  }
 },
 "nbformat": 4,
 "nbformat_minor": 2
}
