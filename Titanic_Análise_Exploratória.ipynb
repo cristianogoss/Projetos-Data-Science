{
  "nbformat": 4,
  "nbformat_minor": 0,
  "metadata": {
    "kernelspec": {
      "name": "python3",
      "display_name": "Python 3"
    },
    "language_info": {
      "codemirror_mode": {
        "name": "ipython",
        "version": 3
      },
      "file_extension": ".py",
      "mimetype": "text/x-python",
      "name": "python",
      "nbconvert_exporter": "python",
      "pygments_lexer": "ipython3",
      "version": "3.7.3"
    },
    "colab": {
      "name": "Titanic-Análise Exploratória.ipynb",
      "version": "0.3.2",
      "provenance": [],
      "include_colab_link": true
    },
    "accelerator": "GPU"
  },
  "cells": [
    {
      "cell_type": "markdown",
      "metadata": {
        "id": "view-in-github",
        "colab_type": "text"
      },
      "source": [
        "<a href=\"https://colab.research.google.com/github/cristianogoss/Projetos-Data-Science/blob/master/Titanic_An%C3%A1lise_Explorat%C3%B3ria.ipynb\" target=\"_parent\"><img src=\"https://colab.research.google.com/assets/colab-badge.svg\" alt=\"Open In Colab\"/></a>"
      ]
    },
    {
      "cell_type": "markdown",
      "metadata": {
        "id": "2wuUGQNukXHR",
        "colab_type": "text"
      },
      "source": [
        "## Obtenção dos Dados\n",
        "\n",
        "Os dados utilizados nesse projeto foram obtidos do site ***kaggle.com***, sendo esta a maior plataforma para competição de cientistas de dados.\n",
        "\n",
        "Como a maioria já conhece a história, O RMS Titanic foi um navio de passageiros britânico, sua construção começou em março de 1909 e ele foi lançado ao mar em maio de 1911. O Titanic foi pensado para ser o navio mais luxuoso e mais seguro de sua época, gerando lendas que era supostamente \"inafundável\".\n",
        "\n",
        "A embarcação partiu em sua viagem inaugural de Southampton para Nova Iorque em 10 de abril de 1912, Ele colidiu com um iceberg às 23h40min do dia 14 de abril e afundou na madrugada do dia seguinte com **2224 pessoas a bordo, e seu naufrágio matou 1524 passageiros** , sendo um dos maiores desastres marítimos em tempos de paz de toda a história. Seu naufrágio destacou vários pontos fracos de seu projeto, deficiências nos procedimentos de evacuação de emergência e falhas nas regulamentações marítimas da época\n",
        "\n",
        "\n"
      ]
    },
    {
      "cell_type": "code",
      "metadata": {
        "id": "eNjsvDcxiX2L",
        "colab_type": "code",
        "outputId": "71d411f8-f42d-498e-8efc-103788b3d674",
        "colab": {
          "base_uri": "https://localhost:8080/",
          "height": 34
        }
      },
      "source": [
        "# Autorizando o carregamento do arquivo que vamos trabalhar diretamente do google drive\n",
        "\n",
        "from google.colab import drive\n",
        "drive.mount('/content/drive')"
      ],
      "execution_count": 13,
      "outputs": [
        {
          "output_type": "stream",
          "text": [
            "Drive already mounted at /content/drive; to attempt to forcibly remount, call drive.mount(\"/content/drive\", force_remount=True).\n"
          ],
          "name": "stdout"
        }
      ]
    },
    {
      "cell_type": "markdown",
      "metadata": {
        "id": "9E-n-VxH79cm",
        "colab_type": "text"
      },
      "source": [
        " Utilizaremos as bibliotecas do pandas,  onde criaremos DataFrames para visualizarmos nossos dados e trabalhar nosso código"
      ]
    },
    {
      "cell_type": "code",
      "metadata": {
        "id": "YuRllloy-y-o",
        "colab_type": "code",
        "colab": {}
      },
      "source": [
        "#importando as bibliotecas\n",
        "\n",
        "import pandas as pd\n",
        "import numpy as np\n",
        "import seaborn as sns\n",
        "import matplotlib.pyplot as plt"
      ],
      "execution_count": 0,
      "outputs": []
    },
    {
      "cell_type": "code",
      "metadata": {
        "id": "RTJUyw3s-y_X",
        "colab_type": "code",
        "outputId": "c4815c8b-ec1b-4939-e5e7-6361e5c457da",
        "colab": {
          "base_uri": "https://localhost:8080/",
          "height": 259
        }
      },
      "source": [
        "# Carregando as nossa base dados e armazenando na variável \"jack\"\n",
        "\n",
        "jack = pd.read_csv('/content/drive/My Drive/datasets/titanic/train.csv')\n",
        "jack.head()"
      ],
      "execution_count": 15,
      "outputs": [
        {
          "output_type": "execute_result",
          "data": {
            "text/html": [
              "<div>\n",
              "<style scoped>\n",
              "    .dataframe tbody tr th:only-of-type {\n",
              "        vertical-align: middle;\n",
              "    }\n",
              "\n",
              "    .dataframe tbody tr th {\n",
              "        vertical-align: top;\n",
              "    }\n",
              "\n",
              "    .dataframe thead th {\n",
              "        text-align: right;\n",
              "    }\n",
              "</style>\n",
              "<table border=\"1\" class=\"dataframe\">\n",
              "  <thead>\n",
              "    <tr style=\"text-align: right;\">\n",
              "      <th></th>\n",
              "      <th>PassengerId</th>\n",
              "      <th>Survived</th>\n",
              "      <th>Pclass</th>\n",
              "      <th>Name</th>\n",
              "      <th>Sex</th>\n",
              "      <th>Age</th>\n",
              "      <th>SibSp</th>\n",
              "      <th>Parch</th>\n",
              "      <th>Ticket</th>\n",
              "      <th>Fare</th>\n",
              "      <th>Cabin</th>\n",
              "      <th>Embarked</th>\n",
              "    </tr>\n",
              "  </thead>\n",
              "  <tbody>\n",
              "    <tr>\n",
              "      <th>0</th>\n",
              "      <td>1</td>\n",
              "      <td>0</td>\n",
              "      <td>3</td>\n",
              "      <td>Braund, Mr. Owen Harris</td>\n",
              "      <td>male</td>\n",
              "      <td>22.0</td>\n",
              "      <td>1</td>\n",
              "      <td>0</td>\n",
              "      <td>A/5 21171</td>\n",
              "      <td>7.2500</td>\n",
              "      <td>NaN</td>\n",
              "      <td>S</td>\n",
              "    </tr>\n",
              "    <tr>\n",
              "      <th>1</th>\n",
              "      <td>2</td>\n",
              "      <td>1</td>\n",
              "      <td>1</td>\n",
              "      <td>Cumings, Mrs. John Bradley (Florence Briggs Th...</td>\n",
              "      <td>female</td>\n",
              "      <td>38.0</td>\n",
              "      <td>1</td>\n",
              "      <td>0</td>\n",
              "      <td>PC 17599</td>\n",
              "      <td>71.2833</td>\n",
              "      <td>C85</td>\n",
              "      <td>C</td>\n",
              "    </tr>\n",
              "    <tr>\n",
              "      <th>2</th>\n",
              "      <td>3</td>\n",
              "      <td>1</td>\n",
              "      <td>3</td>\n",
              "      <td>Heikkinen, Miss. Laina</td>\n",
              "      <td>female</td>\n",
              "      <td>26.0</td>\n",
              "      <td>0</td>\n",
              "      <td>0</td>\n",
              "      <td>STON/O2. 3101282</td>\n",
              "      <td>7.9250</td>\n",
              "      <td>NaN</td>\n",
              "      <td>S</td>\n",
              "    </tr>\n",
              "    <tr>\n",
              "      <th>3</th>\n",
              "      <td>4</td>\n",
              "      <td>1</td>\n",
              "      <td>1</td>\n",
              "      <td>Futrelle, Mrs. Jacques Heath (Lily May Peel)</td>\n",
              "      <td>female</td>\n",
              "      <td>35.0</td>\n",
              "      <td>1</td>\n",
              "      <td>0</td>\n",
              "      <td>113803</td>\n",
              "      <td>53.1000</td>\n",
              "      <td>C123</td>\n",
              "      <td>S</td>\n",
              "    </tr>\n",
              "    <tr>\n",
              "      <th>4</th>\n",
              "      <td>5</td>\n",
              "      <td>0</td>\n",
              "      <td>3</td>\n",
              "      <td>Allen, Mr. William Henry</td>\n",
              "      <td>male</td>\n",
              "      <td>35.0</td>\n",
              "      <td>0</td>\n",
              "      <td>0</td>\n",
              "      <td>373450</td>\n",
              "      <td>8.0500</td>\n",
              "      <td>NaN</td>\n",
              "      <td>S</td>\n",
              "    </tr>\n",
              "  </tbody>\n",
              "</table>\n",
              "</div>"
            ],
            "text/plain": [
              "   PassengerId  Survived  Pclass  ...     Fare Cabin  Embarked\n",
              "0            1         0       3  ...   7.2500   NaN         S\n",
              "1            2         1       1  ...  71.2833   C85         C\n",
              "2            3         1       3  ...   7.9250   NaN         S\n",
              "3            4         1       1  ...  53.1000  C123         S\n",
              "4            5         0       3  ...   8.0500   NaN         S\n",
              "\n",
              "[5 rows x 12 columns]"
            ]
          },
          "metadata": {
            "tags": []
          },
          "execution_count": 15
        }
      ]
    },
    {
      "cell_type": "code",
      "metadata": {
        "id": "RFvDjPs9-y_0",
        "colab_type": "code",
        "outputId": "635345ae-7b77-417c-dcf8-703752e79dcd",
        "colab": {
          "base_uri": "https://localhost:8080/",
          "height": 69
        }
      },
      "source": [
        "# visualizando as colunas da base de dados\n",
        "jack.columns"
      ],
      "execution_count": 16,
      "outputs": [
        {
          "output_type": "execute_result",
          "data": {
            "text/plain": [
              "Index(['PassengerId', 'Survived', 'Pclass', 'Name', 'Sex', 'Age', 'SibSp',\n",
              "       'Parch', 'Ticket', 'Fare', 'Cabin', 'Embarked'],\n",
              "      dtype='object')"
            ]
          },
          "metadata": {
            "tags": []
          },
          "execution_count": 16
        }
      ]
    },
    {
      "cell_type": "code",
      "metadata": {
        "id": "kgtQyteG-zAL",
        "colab_type": "code",
        "outputId": "745238a9-33bc-46b6-d88d-8e3de55911a0",
        "colab": {
          "base_uri": "https://localhost:8080/",
          "height": 206
        }
      },
      "source": [
        "# excluindo as colunas que a princípio não serão relevantes em nossa análise\n",
        "\n",
        "jack.drop(['Cabin', 'Ticket', 'PassengerId'], axis=1, inplace=True)\n",
        "jack.head()"
      ],
      "execution_count": 17,
      "outputs": [
        {
          "output_type": "execute_result",
          "data": {
            "text/html": [
              "<div>\n",
              "<style scoped>\n",
              "    .dataframe tbody tr th:only-of-type {\n",
              "        vertical-align: middle;\n",
              "    }\n",
              "\n",
              "    .dataframe tbody tr th {\n",
              "        vertical-align: top;\n",
              "    }\n",
              "\n",
              "    .dataframe thead th {\n",
              "        text-align: right;\n",
              "    }\n",
              "</style>\n",
              "<table border=\"1\" class=\"dataframe\">\n",
              "  <thead>\n",
              "    <tr style=\"text-align: right;\">\n",
              "      <th></th>\n",
              "      <th>Survived</th>\n",
              "      <th>Pclass</th>\n",
              "      <th>Name</th>\n",
              "      <th>Sex</th>\n",
              "      <th>Age</th>\n",
              "      <th>SibSp</th>\n",
              "      <th>Parch</th>\n",
              "      <th>Fare</th>\n",
              "      <th>Embarked</th>\n",
              "    </tr>\n",
              "  </thead>\n",
              "  <tbody>\n",
              "    <tr>\n",
              "      <th>0</th>\n",
              "      <td>0</td>\n",
              "      <td>3</td>\n",
              "      <td>Braund, Mr. Owen Harris</td>\n",
              "      <td>male</td>\n",
              "      <td>22.0</td>\n",
              "      <td>1</td>\n",
              "      <td>0</td>\n",
              "      <td>7.2500</td>\n",
              "      <td>S</td>\n",
              "    </tr>\n",
              "    <tr>\n",
              "      <th>1</th>\n",
              "      <td>1</td>\n",
              "      <td>1</td>\n",
              "      <td>Cumings, Mrs. John Bradley (Florence Briggs Th...</td>\n",
              "      <td>female</td>\n",
              "      <td>38.0</td>\n",
              "      <td>1</td>\n",
              "      <td>0</td>\n",
              "      <td>71.2833</td>\n",
              "      <td>C</td>\n",
              "    </tr>\n",
              "    <tr>\n",
              "      <th>2</th>\n",
              "      <td>1</td>\n",
              "      <td>3</td>\n",
              "      <td>Heikkinen, Miss. Laina</td>\n",
              "      <td>female</td>\n",
              "      <td>26.0</td>\n",
              "      <td>0</td>\n",
              "      <td>0</td>\n",
              "      <td>7.9250</td>\n",
              "      <td>S</td>\n",
              "    </tr>\n",
              "    <tr>\n",
              "      <th>3</th>\n",
              "      <td>1</td>\n",
              "      <td>1</td>\n",
              "      <td>Futrelle, Mrs. Jacques Heath (Lily May Peel)</td>\n",
              "      <td>female</td>\n",
              "      <td>35.0</td>\n",
              "      <td>1</td>\n",
              "      <td>0</td>\n",
              "      <td>53.1000</td>\n",
              "      <td>S</td>\n",
              "    </tr>\n",
              "    <tr>\n",
              "      <th>4</th>\n",
              "      <td>0</td>\n",
              "      <td>3</td>\n",
              "      <td>Allen, Mr. William Henry</td>\n",
              "      <td>male</td>\n",
              "      <td>35.0</td>\n",
              "      <td>0</td>\n",
              "      <td>0</td>\n",
              "      <td>8.0500</td>\n",
              "      <td>S</td>\n",
              "    </tr>\n",
              "  </tbody>\n",
              "</table>\n",
              "</div>"
            ],
            "text/plain": [
              "   Survived  Pclass  ...     Fare Embarked\n",
              "0         0       3  ...   7.2500        S\n",
              "1         1       1  ...  71.2833        C\n",
              "2         1       3  ...   7.9250        S\n",
              "3         1       1  ...  53.1000        S\n",
              "4         0       3  ...   8.0500        S\n",
              "\n",
              "[5 rows x 9 columns]"
            ]
          },
          "metadata": {
            "tags": []
          },
          "execution_count": 17
        }
      ]
    },
    {
      "cell_type": "code",
      "metadata": {
        "id": "EB-CzMDr-zAj",
        "colab_type": "code",
        "outputId": "572ccb4f-9dca-49fb-846a-9c2cc9192e81",
        "colab": {
          "base_uri": "https://localhost:8080/",
          "height": 206
        }
      },
      "source": [
        "# renomeando as colunas do dataset para um melhor entedimento\n",
        "\n",
        "jack.columns = ['Sobrevivente', 'Classe', 'Nome', 'Sexo', 'Idade', 'Irmãos/Crianças', 'Pais/Filhos', 'Tarifa', 'Embarque']\n",
        "jack.head()"
      ],
      "execution_count": 18,
      "outputs": [
        {
          "output_type": "execute_result",
          "data": {
            "text/html": [
              "<div>\n",
              "<style scoped>\n",
              "    .dataframe tbody tr th:only-of-type {\n",
              "        vertical-align: middle;\n",
              "    }\n",
              "\n",
              "    .dataframe tbody tr th {\n",
              "        vertical-align: top;\n",
              "    }\n",
              "\n",
              "    .dataframe thead th {\n",
              "        text-align: right;\n",
              "    }\n",
              "</style>\n",
              "<table border=\"1\" class=\"dataframe\">\n",
              "  <thead>\n",
              "    <tr style=\"text-align: right;\">\n",
              "      <th></th>\n",
              "      <th>Sobrevivente</th>\n",
              "      <th>Classe</th>\n",
              "      <th>Nome</th>\n",
              "      <th>Sexo</th>\n",
              "      <th>Idade</th>\n",
              "      <th>Irmãos/Crianças</th>\n",
              "      <th>Pais/Filhos</th>\n",
              "      <th>Tarifa</th>\n",
              "      <th>Embarque</th>\n",
              "    </tr>\n",
              "  </thead>\n",
              "  <tbody>\n",
              "    <tr>\n",
              "      <th>0</th>\n",
              "      <td>0</td>\n",
              "      <td>3</td>\n",
              "      <td>Braund, Mr. Owen Harris</td>\n",
              "      <td>male</td>\n",
              "      <td>22.0</td>\n",
              "      <td>1</td>\n",
              "      <td>0</td>\n",
              "      <td>7.2500</td>\n",
              "      <td>S</td>\n",
              "    </tr>\n",
              "    <tr>\n",
              "      <th>1</th>\n",
              "      <td>1</td>\n",
              "      <td>1</td>\n",
              "      <td>Cumings, Mrs. John Bradley (Florence Briggs Th...</td>\n",
              "      <td>female</td>\n",
              "      <td>38.0</td>\n",
              "      <td>1</td>\n",
              "      <td>0</td>\n",
              "      <td>71.2833</td>\n",
              "      <td>C</td>\n",
              "    </tr>\n",
              "    <tr>\n",
              "      <th>2</th>\n",
              "      <td>1</td>\n",
              "      <td>3</td>\n",
              "      <td>Heikkinen, Miss. Laina</td>\n",
              "      <td>female</td>\n",
              "      <td>26.0</td>\n",
              "      <td>0</td>\n",
              "      <td>0</td>\n",
              "      <td>7.9250</td>\n",
              "      <td>S</td>\n",
              "    </tr>\n",
              "    <tr>\n",
              "      <th>3</th>\n",
              "      <td>1</td>\n",
              "      <td>1</td>\n",
              "      <td>Futrelle, Mrs. Jacques Heath (Lily May Peel)</td>\n",
              "      <td>female</td>\n",
              "      <td>35.0</td>\n",
              "      <td>1</td>\n",
              "      <td>0</td>\n",
              "      <td>53.1000</td>\n",
              "      <td>S</td>\n",
              "    </tr>\n",
              "    <tr>\n",
              "      <th>4</th>\n",
              "      <td>0</td>\n",
              "      <td>3</td>\n",
              "      <td>Allen, Mr. William Henry</td>\n",
              "      <td>male</td>\n",
              "      <td>35.0</td>\n",
              "      <td>0</td>\n",
              "      <td>0</td>\n",
              "      <td>8.0500</td>\n",
              "      <td>S</td>\n",
              "    </tr>\n",
              "  </tbody>\n",
              "</table>\n",
              "</div>"
            ],
            "text/plain": [
              "   Sobrevivente  Classe  ...   Tarifa Embarque\n",
              "0             0       3  ...   7.2500        S\n",
              "1             1       1  ...  71.2833        C\n",
              "2             1       3  ...   7.9250        S\n",
              "3             1       1  ...  53.1000        S\n",
              "4             0       3  ...   8.0500        S\n",
              "\n",
              "[5 rows x 9 columns]"
            ]
          },
          "metadata": {
            "tags": []
          },
          "execution_count": 18
        }
      ]
    },
    {
      "cell_type": "markdown",
      "metadata": {
        "id": "jQ6xzddUqxuI",
        "colab_type": "text"
      },
      "source": [
        "## Passageiros e Tripulação:\n",
        "\n",
        " O Titanic partiu em sua primeira e única viagem com 2224 pessoas (tripulação e  passageiros) a bordo: 325 na primeira classe, 285 na segunda e 706 na terceira. Os embarques foram em : ***Southampton - Inglaterra, em Cherbourg-Octeville na França e em Queenstown na Irlanda***. Na primeira classe estavam os passageiros mais ricos do navio, dentre eles empresários, artistas, oficiais militares, políticos e outros. A segunda classe era mais diversificada e incluía empresários, professores, clérigos e imigrantes, por vezes ricos, que retornavam ao seu país natal. Por fim, a terceira classe era onde estavam os imigrantes. Eram pessoas que muitas vezes viajavam em grandes grupos familiares de até doze membros. Eles vinham de diferentes partes da Europa como Escandinávia, Leste Europeu, Irlanda e até mesmo da Ásia\n"
      ]
    },
    {
      "cell_type": "code",
      "metadata": {
        "id": "rbMR9bfv-zBF",
        "colab_type": "code",
        "colab": {}
      },
      "source": [
        "# substituindo  o conteúdo da coluna \"embarque\" com iniciais(S, Q, C) pelas cidades correspondentes\n",
        "\n",
        "jack[\"Embarque\"] = jack['Embarque'].replace(['S','Q','C'], ['Southampton', 'Queenstown','Cherbourg'])"
      ],
      "execution_count": 0,
      "outputs": []
    },
    {
      "cell_type": "code",
      "metadata": {
        "id": "IKPMjXwE-zBY",
        "colab_type": "code",
        "colab": {}
      },
      "source": [
        "# vamos substituir o \"male, female\" por \"masculino e feminino\"\n",
        "\n",
        "jack['Sexo'] = jack['Sexo'].replace(['male', 'female'], ['masculino','feminino'])"
      ],
      "execution_count": 0,
      "outputs": []
    },
    {
      "cell_type": "code",
      "metadata": {
        "id": "3VSMMAgP-zBy",
        "colab_type": "code",
        "outputId": "4c5cb1a6-8203-4533-e014-6936b97f7c53",
        "colab": {
          "base_uri": "https://localhost:8080/",
          "height": 260
        }
      },
      "source": [
        "# vendo as informações numéricas e categóricas do dataset\n",
        "\n",
        "jack.info()"
      ],
      "execution_count": 21,
      "outputs": [
        {
          "output_type": "stream",
          "text": [
            "<class 'pandas.core.frame.DataFrame'>\n",
            "RangeIndex: 891 entries, 0 to 890\n",
            "Data columns (total 9 columns):\n",
            "Sobrevivente       891 non-null int64\n",
            "Classe             891 non-null int64\n",
            "Nome               891 non-null object\n",
            "Sexo               891 non-null object\n",
            "Idade              714 non-null float64\n",
            "Irmãos/Crianças    891 non-null int64\n",
            "Pais/Filhos        891 non-null int64\n",
            "Tarifa             891 non-null float64\n",
            "Embarque           889 non-null object\n",
            "dtypes: float64(2), int64(4), object(3)\n",
            "memory usage: 62.7+ KB\n"
          ],
          "name": "stdout"
        }
      ]
    },
    {
      "cell_type": "code",
      "metadata": {
        "id": "oUcCTs4N-zCO",
        "colab_type": "code",
        "outputId": "932b4cd2-a75a-46be-8338-719ade4b7b11",
        "colab": {
          "base_uri": "https://localhost:8080/",
          "height": 301
        }
      },
      "source": [
        "# visualizando as informações estatísticas\n",
        "\n",
        "jack.describe()"
      ],
      "execution_count": 22,
      "outputs": [
        {
          "output_type": "execute_result",
          "data": {
            "text/html": [
              "<div>\n",
              "<style scoped>\n",
              "    .dataframe tbody tr th:only-of-type {\n",
              "        vertical-align: middle;\n",
              "    }\n",
              "\n",
              "    .dataframe tbody tr th {\n",
              "        vertical-align: top;\n",
              "    }\n",
              "\n",
              "    .dataframe thead th {\n",
              "        text-align: right;\n",
              "    }\n",
              "</style>\n",
              "<table border=\"1\" class=\"dataframe\">\n",
              "  <thead>\n",
              "    <tr style=\"text-align: right;\">\n",
              "      <th></th>\n",
              "      <th>Sobrevivente</th>\n",
              "      <th>Classe</th>\n",
              "      <th>Idade</th>\n",
              "      <th>Irmãos/Crianças</th>\n",
              "      <th>Pais/Filhos</th>\n",
              "      <th>Tarifa</th>\n",
              "    </tr>\n",
              "  </thead>\n",
              "  <tbody>\n",
              "    <tr>\n",
              "      <th>count</th>\n",
              "      <td>891.000000</td>\n",
              "      <td>891.000000</td>\n",
              "      <td>714.000000</td>\n",
              "      <td>891.000000</td>\n",
              "      <td>891.000000</td>\n",
              "      <td>891.000000</td>\n",
              "    </tr>\n",
              "    <tr>\n",
              "      <th>mean</th>\n",
              "      <td>0.383838</td>\n",
              "      <td>2.308642</td>\n",
              "      <td>29.699118</td>\n",
              "      <td>0.523008</td>\n",
              "      <td>0.381594</td>\n",
              "      <td>32.204208</td>\n",
              "    </tr>\n",
              "    <tr>\n",
              "      <th>std</th>\n",
              "      <td>0.486592</td>\n",
              "      <td>0.836071</td>\n",
              "      <td>14.526497</td>\n",
              "      <td>1.102743</td>\n",
              "      <td>0.806057</td>\n",
              "      <td>49.693429</td>\n",
              "    </tr>\n",
              "    <tr>\n",
              "      <th>min</th>\n",
              "      <td>0.000000</td>\n",
              "      <td>1.000000</td>\n",
              "      <td>0.420000</td>\n",
              "      <td>0.000000</td>\n",
              "      <td>0.000000</td>\n",
              "      <td>0.000000</td>\n",
              "    </tr>\n",
              "    <tr>\n",
              "      <th>25%</th>\n",
              "      <td>0.000000</td>\n",
              "      <td>2.000000</td>\n",
              "      <td>20.125000</td>\n",
              "      <td>0.000000</td>\n",
              "      <td>0.000000</td>\n",
              "      <td>7.910400</td>\n",
              "    </tr>\n",
              "    <tr>\n",
              "      <th>50%</th>\n",
              "      <td>0.000000</td>\n",
              "      <td>3.000000</td>\n",
              "      <td>28.000000</td>\n",
              "      <td>0.000000</td>\n",
              "      <td>0.000000</td>\n",
              "      <td>14.454200</td>\n",
              "    </tr>\n",
              "    <tr>\n",
              "      <th>75%</th>\n",
              "      <td>1.000000</td>\n",
              "      <td>3.000000</td>\n",
              "      <td>38.000000</td>\n",
              "      <td>1.000000</td>\n",
              "      <td>0.000000</td>\n",
              "      <td>31.000000</td>\n",
              "    </tr>\n",
              "    <tr>\n",
              "      <th>max</th>\n",
              "      <td>1.000000</td>\n",
              "      <td>3.000000</td>\n",
              "      <td>80.000000</td>\n",
              "      <td>8.000000</td>\n",
              "      <td>6.000000</td>\n",
              "      <td>512.329200</td>\n",
              "    </tr>\n",
              "  </tbody>\n",
              "</table>\n",
              "</div>"
            ],
            "text/plain": [
              "       Sobrevivente      Classe  ...  Pais/Filhos      Tarifa\n",
              "count    891.000000  891.000000  ...   891.000000  891.000000\n",
              "mean       0.383838    2.308642  ...     0.381594   32.204208\n",
              "std        0.486592    0.836071  ...     0.806057   49.693429\n",
              "min        0.000000    1.000000  ...     0.000000    0.000000\n",
              "25%        0.000000    2.000000  ...     0.000000    7.910400\n",
              "50%        0.000000    3.000000  ...     0.000000   14.454200\n",
              "75%        1.000000    3.000000  ...     0.000000   31.000000\n",
              "max        1.000000    3.000000  ...     6.000000  512.329200\n",
              "\n",
              "[8 rows x 6 columns]"
            ]
          },
          "metadata": {
            "tags": []
          },
          "execution_count": 22
        }
      ]
    },
    {
      "cell_type": "code",
      "metadata": {
        "id": "-J6_QV4Z-zCq",
        "colab_type": "code",
        "outputId": "fcdf8c2f-5c4a-4f49-beb8-643f85ececf7",
        "colab": {
          "base_uri": "https://localhost:8080/",
          "height": 191
        }
      },
      "source": [
        "# visualizando os valores faltantes \n",
        "\n",
        "jack.isnull().sum()"
      ],
      "execution_count": 23,
      "outputs": [
        {
          "output_type": "execute_result",
          "data": {
            "text/plain": [
              "Sobrevivente         0\n",
              "Classe               0\n",
              "Nome                 0\n",
              "Sexo                 0\n",
              "Idade              177\n",
              "Irmãos/Crianças      0\n",
              "Pais/Filhos          0\n",
              "Tarifa               0\n",
              "Embarque             2\n",
              "dtype: int64"
            ]
          },
          "metadata": {
            "tags": []
          },
          "execution_count": 23
        }
      ]
    },
    {
      "cell_type": "code",
      "metadata": {
        "id": "kP6Ay58x-zDN",
        "colab_type": "code",
        "colab": {}
      },
      "source": [
        "# Substituindo pela média a coluna \"idade\", onde há vários valores faltantes\n",
        "\n",
        "jack['Idade'].fillna(jack['Idade'].mean(), inplace=True)"
      ],
      "execution_count": 0,
      "outputs": []
    },
    {
      "cell_type": "code",
      "metadata": {
        "id": "GoaKcGlX-zDo",
        "colab_type": "code",
        "outputId": "ec29f4f8-af22-4809-881a-3dc38047f7e1",
        "colab": {
          "base_uri": "https://localhost:8080/",
          "height": 191
        }
      },
      "source": [
        "jack.isnull().sum()"
      ],
      "execution_count": 25,
      "outputs": [
        {
          "output_type": "execute_result",
          "data": {
            "text/plain": [
              "Sobrevivente       0\n",
              "Classe             0\n",
              "Nome               0\n",
              "Sexo               0\n",
              "Idade              0\n",
              "Irmãos/Crianças    0\n",
              "Pais/Filhos        0\n",
              "Tarifa             0\n",
              "Embarque           2\n",
              "dtype: int64"
            ]
          },
          "metadata": {
            "tags": []
          },
          "execution_count": 25
        }
      ]
    },
    {
      "cell_type": "code",
      "metadata": {
        "id": "BI2BRVo_-zEI",
        "colab_type": "code",
        "outputId": "34224abd-97da-48e0-bc00-9fa8021647c0",
        "colab": {
          "base_uri": "https://localhost:8080/",
          "height": 621
        }
      },
      "source": [
        "# histograma das variáveis numéricas\n",
        "\n",
        "jack.hist(figsize=(10,8))"
      ],
      "execution_count": 26,
      "outputs": [
        {
          "output_type": "execute_result",
          "data": {
            "text/plain": [
              "array([[<matplotlib.axes._subplots.AxesSubplot object at 0x7ff079b20240>,\n",
              "        <matplotlib.axes._subplots.AxesSubplot object at 0x7ff079a915f8>],\n",
              "       [<matplotlib.axes._subplots.AxesSubplot object at 0x7ff079aba9e8>,\n",
              "        <matplotlib.axes._subplots.AxesSubplot object at 0x7ff079a62f60>],\n",
              "       [<matplotlib.axes._subplots.AxesSubplot object at 0x7ff079a82eb8>,\n",
              "        <matplotlib.axes._subplots.AxesSubplot object at 0x7ff079a31470>]],\n",
              "      dtype=object)"
            ]
          },
          "metadata": {
            "tags": []
          },
          "execution_count": 26
        },
        {
          "output_type": "display_data",
          "data": {
            "image/png": "[encoded data removed]",
            "text/plain": [
              "<Figure size 720x576 with 6 Axes>"
            ]
          },
          "metadata": {
            "tags": []
          }
        }
      ]
    },
    {
      "cell_type": "markdown",
      "metadata": {
        "id": "Qfq774DBuuts",
        "colab_type": "text"
      },
      "source": [
        "## Sobreviventes:\n",
        "\n",
        "O número exato de mortos no naufrágio é incerto devido a vários fatores, como confusão sobre a lista de passageiros, que incluía nomes de pessoas que cancelaram a viagem no último momento e o fato de alguns passageiros terem embarcado sob pseudônimos. O número total de mortos já foi colocado entre 1490 e 1635 pessoas. O número mais aceito é aquele da Junta Comercial britânica, 1514 mortos\n",
        " \n",
        "Neste arquivo contém apenas **891 entradas (nomes)**  de pessoas, e como podemos ver nos dados e gráficos abaixo, as mulheres foram os maiores sobreviventes, bem como os que estavam na **primeira Classe**, seguido da segunda e por último a terceira, sendo que esta situava-se nos porões do navio\n",
        "\n",
        "Outro fato interessante, os sobreviventes em maior número embarcaram em **Cherbourg na França,** seriam dessa cidade os mais afortunados do navio?"
      ]
    },
    {
      "cell_type": "code",
      "metadata": {
        "id": "bUE54_8L1i5L",
        "colab_type": "code",
        "outputId": "892163bc-5e9c-40c1-a22e-3de25b0bb724",
        "colab": {
          "base_uri": "https://localhost:8080/",
          "height": 144
        }
      },
      "source": [
        "# média de sobreviventes\n",
        "\n",
        "jack[['Sexo', 'Sobrevivente']].groupby(['Sexo']).mean() \n"
      ],
      "execution_count": 27,
      "outputs": [
        {
          "output_type": "execute_result",
          "data": {
            "text/html": [
              "<div>\n",
              "<style scoped>\n",
              "    .dataframe tbody tr th:only-of-type {\n",
              "        vertical-align: middle;\n",
              "    }\n",
              "\n",
              "    .dataframe tbody tr th {\n",
              "        vertical-align: top;\n",
              "    }\n",
              "\n",
              "    .dataframe thead th {\n",
              "        text-align: right;\n",
              "    }\n",
              "</style>\n",
              "<table border=\"1\" class=\"dataframe\">\n",
              "  <thead>\n",
              "    <tr style=\"text-align: right;\">\n",
              "      <th></th>\n",
              "      <th>Sobrevivente</th>\n",
              "    </tr>\n",
              "    <tr>\n",
              "      <th>Sexo</th>\n",
              "      <th></th>\n",
              "    </tr>\n",
              "  </thead>\n",
              "  <tbody>\n",
              "    <tr>\n",
              "      <th>feminino</th>\n",
              "      <td>0.742038</td>\n",
              "    </tr>\n",
              "    <tr>\n",
              "      <th>masculino</th>\n",
              "      <td>0.188908</td>\n",
              "    </tr>\n",
              "  </tbody>\n",
              "</table>\n",
              "</div>"
            ],
            "text/plain": [
              "           Sobrevivente\n",
              "Sexo                   \n",
              "feminino       0.742038\n",
              "masculino      0.188908"
            ]
          },
          "metadata": {
            "tags": []
          },
          "execution_count": 27
        }
      ]
    },
    {
      "cell_type": "code",
      "metadata": {
        "id": "mwqxJMdw-zEZ",
        "colab_type": "code",
        "outputId": "91ae6755-25b0-4b20-b7c1-0b20f66ad928",
        "colab": {
          "base_uri": "https://localhost:8080/",
          "height": 300
        }
      },
      "source": [
        "# plotando os gráficos para: sobrevivente vs. Sexo, Classe e Embarque\n",
        "\n",
        "fig, (axis1, axis2, axis3) = plt.subplots(1,3, figsize=(12,4))\n",
        "\n",
        "sns.barplot(x='Sexo', y='Sobrevivente', data=jack, ax=axis1)\n",
        "sns.barplot(x='Classe', y='Sobrevivente', data=jack, ax=axis2)\n",
        "sns.barplot(x='Embarque', y='Sobrevivente', data=jack, ax=axis3)\n"
      ],
      "execution_count": 0,
      "outputs": [
        {
          "output_type": "execute_result",
          "data": {
            "text/plain": [
              "<matplotlib.axes._subplots.AxesSubplot at 0x7fa4a5963dd8>"
            ]
          },
          "metadata": {
            "tags": []
          },
          "execution_count": 31
        },
        {
          "output_type": "display_data",
          "data": {
            "image/png": "[encoded data removed]",
            "text/plain": [
              "<Figure size 864x288 with 3 Axes>"
            ]
          },
          "metadata": {
            "tags": []
          }
        }
      ]
    },
    {
      "cell_type": "markdown",
      "metadata": {
        "id": "SyLMgHWq3cUS",
        "colab_type": "text"
      },
      "source": [
        "## Prioridade\n",
        "\n",
        " Mulheres e crianças primeiro, é  um código de conduta datando de 1852, pelo qual as vidas de mulheres e crianças deveriam ser salvas primeiro em uma situação que ameaça a vida, geralmente abandonando o navio, quando os recursos de sobrevivência, como botes salva-vidas são limitados, o que foi o caso do **Titanic,** onde não haviam botes para todos, mas acreditem, o navio estava de acordo com as leis da época, onde a quantidade de barcos salva vidas estava de acordo com a tonelagem do mesmo\n"
      ]
    },
    {
      "cell_type": "markdown",
      "metadata": {
        "id": "6nVOyQg4Ai3j",
        "colab_type": "text"
      },
      "source": [
        "Vamos criar uma váriavel prioridade, onde armazenaremos apenas as crianças e mulheres"
      ]
    },
    {
      "cell_type": "code",
      "metadata": {
        "id": "PCo8D6kN-zEr",
        "colab_type": "code",
        "outputId": "6da1d2da-21cc-4d3b-d227-ac09599b0c1a",
        "colab": {}
      },
      "source": [
        "# criando a variável prioridade, com idades de \"0 a 12\" e o sexo feminino\n",
        "\n",
        "prioridade = (jack['Idade'] <= 12) & (jack['Idade'] > 0) | (jack['Sexo'] == 'feminino')\n",
        "prioridade = jack[prioridade]\n",
        "prioridade.head()"
      ],
      "execution_count": 0,
      "outputs": [
        {
          "output_type": "execute_result",
          "data": {
            "text/html": [
              "<div>\n",
              "<style scoped>\n",
              "    .dataframe tbody tr th:only-of-type {\n",
              "        vertical-align: middle;\n",
              "    }\n",
              "\n",
              "    .dataframe tbody tr th {\n",
              "        vertical-align: top;\n",
              "    }\n",
              "\n",
              "    .dataframe thead th {\n",
              "        text-align: right;\n",
              "    }\n",
              "</style>\n",
              "<table border=\"1\" class=\"dataframe\">\n",
              "  <thead>\n",
              "    <tr style=\"text-align: right;\">\n",
              "      <th></th>\n",
              "      <th>Sobrevivente</th>\n",
              "      <th>Classe</th>\n",
              "      <th>Nome</th>\n",
              "      <th>Sexo</th>\n",
              "      <th>Idade</th>\n",
              "      <th>Irmãos/Crianças</th>\n",
              "      <th>Pais/Filhos</th>\n",
              "      <th>Tarifa</th>\n",
              "      <th>Embarque</th>\n",
              "    </tr>\n",
              "  </thead>\n",
              "  <tbody>\n",
              "    <tr>\n",
              "      <th>1</th>\n",
              "      <td>1</td>\n",
              "      <td>1</td>\n",
              "      <td>Cumings, Mrs. John Bradley (Florence Briggs Th...</td>\n",
              "      <td>feminino</td>\n",
              "      <td>38.0</td>\n",
              "      <td>1</td>\n",
              "      <td>0</td>\n",
              "      <td>71.2833</td>\n",
              "      <td>Cherbourg</td>\n",
              "    </tr>\n",
              "    <tr>\n",
              "      <th>2</th>\n",
              "      <td>1</td>\n",
              "      <td>3</td>\n",
              "      <td>Heikkinen, Miss. Laina</td>\n",
              "      <td>feminino</td>\n",
              "      <td>26.0</td>\n",
              "      <td>0</td>\n",
              "      <td>0</td>\n",
              "      <td>7.9250</td>\n",
              "      <td>Southampton</td>\n",
              "    </tr>\n",
              "    <tr>\n",
              "      <th>3</th>\n",
              "      <td>1</td>\n",
              "      <td>1</td>\n",
              "      <td>Futrelle, Mrs. Jacques Heath (Lily May Peel)</td>\n",
              "      <td>feminino</td>\n",
              "      <td>35.0</td>\n",
              "      <td>1</td>\n",
              "      <td>0</td>\n",
              "      <td>53.1000</td>\n",
              "      <td>Southampton</td>\n",
              "    </tr>\n",
              "    <tr>\n",
              "      <th>7</th>\n",
              "      <td>0</td>\n",
              "      <td>3</td>\n",
              "      <td>Palsson, Master. Gosta Leonard</td>\n",
              "      <td>masculino</td>\n",
              "      <td>2.0</td>\n",
              "      <td>3</td>\n",
              "      <td>1</td>\n",
              "      <td>21.0750</td>\n",
              "      <td>Southampton</td>\n",
              "    </tr>\n",
              "    <tr>\n",
              "      <th>8</th>\n",
              "      <td>1</td>\n",
              "      <td>3</td>\n",
              "      <td>Johnson, Mrs. Oscar W (Elisabeth Vilhelmina Berg)</td>\n",
              "      <td>feminino</td>\n",
              "      <td>27.0</td>\n",
              "      <td>0</td>\n",
              "      <td>2</td>\n",
              "      <td>11.1333</td>\n",
              "      <td>Southampton</td>\n",
              "    </tr>\n",
              "  </tbody>\n",
              "</table>\n",
              "</div>"
            ],
            "text/plain": [
              "   Sobrevivente  Classe                                               Nome  \\\n",
              "1             1       1  Cumings, Mrs. John Bradley (Florence Briggs Th...   \n",
              "2             1       3                             Heikkinen, Miss. Laina   \n",
              "3             1       1       Futrelle, Mrs. Jacques Heath (Lily May Peel)   \n",
              "7             0       3                     Palsson, Master. Gosta Leonard   \n",
              "8             1       3  Johnson, Mrs. Oscar W (Elisabeth Vilhelmina Berg)   \n",
              "\n",
              "        Sexo  Idade  Irmãos/Crianças  Pais/Filhos   Tarifa     Embarque  \n",
              "1   feminino   38.0                1            0  71.2833    Cherbourg  \n",
              "2   feminino   26.0                0            0   7.9250  Southampton  \n",
              "3   feminino   35.0                1            0  53.1000  Southampton  \n",
              "7  masculino    2.0                3            1  21.0750  Southampton  \n",
              "8   feminino   27.0                0            2  11.1333  Southampton  "
            ]
          },
          "metadata": {
            "tags": []
          },
          "execution_count": 84
        }
      ]
    },
    {
      "cell_type": "code",
      "metadata": {
        "id": "QuJ6ipcY-zE9",
        "colab_type": "code",
        "outputId": "43b39c68-ca13-4cc2-f625-e00b67186a0a",
        "colab": {}
      },
      "source": [
        "# plotando os gráficos para: sobrevivente vs. Sexo, Classe, levando em consideração a variável prioridade\n",
        "\n",
        "\n",
        "fig, (axis1, axis2) = plt.subplots(1,2, figsize=(12,4))\n",
        "sns.barplot(x='Sexo', y='Sobrevivente', data=prioridade, ax=axis1)\n",
        "sns.barplot(x='Classe', y='Sobrevivente', data=prioridade, ax=axis2)"
      ],
      "execution_count": 0,
      "outputs": [
        {
          "output_type": "execute_result",
          "data": {
            "text/plain": [
              "<matplotlib.axes._subplots.AxesSubplot at 0x7f5f1a3d6940>"
            ]
          },
          "metadata": {
            "tags": []
          },
          "execution_count": 85
        },
        {
          "output_type": "display_data",
          "data": {
            "image/png": "[encoded data removed]",
            "text/plain": [
              "<Figure size 864x288 with 2 Axes>"
            ]
          },
          "metadata": {
            "tags": [],
            "needs_background": "light"
          }
        }
      ]
    },
    {
      "cell_type": "markdown",
      "metadata": {
        "id": "PacLwO5qBiLC",
        "colab_type": "text"
      },
      "source": [
        "## Resgate\n",
        "\n",
        "Os sobreviventes do Titanic finalmente foram resgatados a partir dàs 4h00min da manhã do dia 15 de abril pelo Carpathia, que havia corrido durante a noite em máxima velocidade e a um risco considerável, já que ele teve de desviar de vários icebergs no caminho\n",
        "\n",
        "Menos de um terço daqueles que estavam a bordo do Titanic sobreviveram. Alguns sobreviventes morreram pouco tempo depois; ferimentos e os efeitos da exposição causaram a morte de muitos daqueles resgatados pelo Carpathia. 49% das crianças, 26% das mulheres passageiras, 82% dos homens passageiros e 78% da tripulação morreram\n",
        "\n",
        "O gráfico abaixo demonstra apenas quantidade de sobreviventes dos 891 passageiros catalogados, mas na verdade morreram muito mais"
      ]
    },
    {
      "cell_type": "code",
      "metadata": {
        "id": "68da8VZa-zFg",
        "colab_type": "code",
        "outputId": "e16e8440-c479-46b9-9994-00e333dfbfe8",
        "colab": {}
      },
      "source": [
        "# plotando um gráfico da quantidade de sobreviventes cadastrados por classe\n",
        "\n",
        "sobrevivente_classe = jack[jack['Sobrevivente'] == 1]['Classe'].value_counts().sort_values(ascending=True)\n",
        "sobrevivente_classe.plot(kind='barh', figsize=(11,5), color = \"red\", rot=0, grid=True)\n",
        "\n",
        "plt.title('QUANTIDADE DE SOBREVIVENTES POR CLASSE\\n Total: %s sobreviventes' % (sobrevivente_classe.sum()))\n",
        "plt.xlabel('QUANTIDADE DE SOBREVIVENTES')\n",
        "plt.ylabel('Classe')\n",
        "plt.show()"
      ],
      "execution_count": 0,
      "outputs": [
        {
          "output_type": "display_data",
          "data": {
            "image/png": "[encoded data removed]",
            "text/plain": [
              "<Figure size 792x360 with 1 Axes>"
            ]
          },
          "metadata": {
            "tags": [],
            "needs_background": "light"
          }
        }
      ]
    },
    {
      "cell_type": "code",
      "metadata": {
        "id": "Y3H5tD2K-zF0",
        "colab_type": "code",
        "outputId": "3707a4a2-044c-4ccc-e9da-3af4d8eaaeb8",
        "colab": {
          "base_uri": "https://localhost:8080/",
          "height": 320
        }
      },
      "source": [
        "# plotar o heatmap para ver a correlação entre  os dados\n",
        "\n",
        "sns.heatmap(jack.corr(), cmap='coolwarm', fmt='.2f', linewidths=0.1,\n",
        "            vmax=1.0, square=True, linecolor='white', annot=True);"
      ],
      "execution_count": 0,
      "outputs": [
        {
          "output_type": "display_data",
          "data": {
            "image/png": "[encoded data removed]",
            "text/plain": [
              "<Figure size 432x288 with 2 Axes>"
            ]
          },
          "metadata": {
            "tags": []
          }
        }
      ]
    }
  ]
}
