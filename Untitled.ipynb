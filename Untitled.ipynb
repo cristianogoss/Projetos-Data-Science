{
 "cells": [
  {
   "cell_type": "code",
   "execution_count": 13,
   "metadata": {},
   "outputs": [],
   "source": [
    "import pandas as pd\n",
    "import numpy as np\n",
    "import matplotlib as plt\n",
    "import seaborn as sns"
   ]
  },
  {
   "cell_type": "code",
   "execution_count": 14,
   "metadata": {},
   "outputs": [],
   "source": [
    "df = pd.read_csv(\"2018.csv\")"
   ]
  },
  {
   "cell_type": "code",
   "execution_count": 15,
   "metadata": {},
   "outputs": [
    {
     "data": {
      "text/html": [
       "<div>\n",
       "<style scoped>\n",
       "    .dataframe tbody tr th:only-of-type {\n",
       "        vertical-align: middle;\n",
       "    }\n",
       "\n",
       "    .dataframe tbody tr th {\n",
       "        vertical-align: top;\n",
       "    }\n",
       "\n",
       "    .dataframe thead th {\n",
       "        text-align: right;\n",
       "    }\n",
       "</style>\n",
       "<table border=\"1\" class=\"dataframe\">\n",
       "  <thead>\n",
       "    <tr style=\"text-align: right;\">\n",
       "      <th></th>\n",
       "      <th>ANO</th>\n",
       "      <th>MES</th>\n",
       "      <th>SENADOR</th>\n",
       "      <th>TIPO_DESPESA</th>\n",
       "      <th>CNPJ_CPF</th>\n",
       "      <th>FORNECEDOR</th>\n",
       "      <th>DOCUMENTO</th>\n",
       "      <th>DATA</th>\n",
       "      <th>DETALHAMENTO</th>\n",
       "      <th>VALOR_REEMBOLSADO</th>\n",
       "    </tr>\n",
       "  </thead>\n",
       "  <tbody>\n",
       "    <tr>\n",
       "      <th>0</th>\n",
       "      <td>2018.0</td>\n",
       "      <td>1.0</td>\n",
       "      <td>ACIR GURGACZ</td>\n",
       "      <td>Aluguel de imóveis para escritório político, c...</td>\n",
       "      <td>004.948.028-63</td>\n",
       "      <td>GILBERTO PISELO DO NASCIMENTO</td>\n",
       "      <td>NaN</td>\n",
       "      <td>02/01/2018</td>\n",
       "      <td>Despesa com pagamento de aluguel de imóvel par...</td>\n",
       "      <td>6000</td>\n",
       "    </tr>\n",
       "    <tr>\n",
       "      <th>1</th>\n",
       "      <td>2018.0</td>\n",
       "      <td>1.0</td>\n",
       "      <td>ACIR GURGACZ</td>\n",
       "      <td>Passagens aéreas, aquáticas e terrestres nacio...</td>\n",
       "      <td>63.764.211/0001-10</td>\n",
       "      <td>TRANSCONTINENTAL AGÊNCIA DE VIAGENS LTDA</td>\n",
       "      <td>M2CJMM</td>\n",
       "      <td>02/01/2018</td>\n",
       "      <td>Companhia Aérea: AVIANCA, Localizador: M2CJMM....</td>\n",
       "      <td>274,99</td>\n",
       "    </tr>\n",
       "    <tr>\n",
       "      <th>2</th>\n",
       "      <td>2018.0</td>\n",
       "      <td>1.0</td>\n",
       "      <td>ACIR GURGACZ</td>\n",
       "      <td>Passagens aéreas, aquáticas e terrestres nacio...</td>\n",
       "      <td>63.764.211/0001-10</td>\n",
       "      <td>TRANSCONTINENTAL AGÊNCIA DE VIAGENS LTDA</td>\n",
       "      <td>SFEXYF</td>\n",
       "      <td>02/01/2018</td>\n",
       "      <td>Companhia Aérea: LATAM, Localizador: SFEXYF. P...</td>\n",
       "      <td>1094,29</td>\n",
       "    </tr>\n",
       "    <tr>\n",
       "      <th>3</th>\n",
       "      <td>2018.0</td>\n",
       "      <td>1.0</td>\n",
       "      <td>ACIR GURGACZ</td>\n",
       "      <td>Passagens aéreas, aquáticas e terrestres nacio...</td>\n",
       "      <td>63.764.211/0001-10</td>\n",
       "      <td>TRANSCONTINENTAL AGÊNCIA DE VIAGENS LTDA</td>\n",
       "      <td>V64HTR</td>\n",
       "      <td>24/01/2018</td>\n",
       "      <td>Companhia Aérea: AZUL, Localizador: V64HTR. Pa...</td>\n",
       "      <td>1553,99</td>\n",
       "    </tr>\n",
       "    <tr>\n",
       "      <th>4</th>\n",
       "      <td>2018.0</td>\n",
       "      <td>2.0</td>\n",
       "      <td>ACIR GURGACZ</td>\n",
       "      <td>Aluguel de imóveis para escritório político, c...</td>\n",
       "      <td>004.948.028-63</td>\n",
       "      <td>GILBERTO PISELO DO NASCIMENTO</td>\n",
       "      <td>002/18</td>\n",
       "      <td>01/02/2018</td>\n",
       "      <td>Despesa com pagamento de aluguel de imóvel par...</td>\n",
       "      <td>6000</td>\n",
       "    </tr>\n",
       "  </tbody>\n",
       "</table>\n",
       "</div>"
      ],
      "text/plain": [
       "      ANO  MES       SENADOR  \\\n",
       "0  2018.0  1.0  ACIR GURGACZ   \n",
       "1  2018.0  1.0  ACIR GURGACZ   \n",
       "2  2018.0  1.0  ACIR GURGACZ   \n",
       "3  2018.0  1.0  ACIR GURGACZ   \n",
       "4  2018.0  2.0  ACIR GURGACZ   \n",
       "\n",
       "                                        TIPO_DESPESA            CNPJ_CPF  \\\n",
       "0  Aluguel de imóveis para escritório político, c...      004.948.028-63   \n",
       "1  Passagens aéreas, aquáticas e terrestres nacio...  63.764.211/0001-10   \n",
       "2  Passagens aéreas, aquáticas e terrestres nacio...  63.764.211/0001-10   \n",
       "3  Passagens aéreas, aquáticas e terrestres nacio...  63.764.211/0001-10   \n",
       "4  Aluguel de imóveis para escritório político, c...      004.948.028-63   \n",
       "\n",
       "                                 FORNECEDOR DOCUMENTO        DATA  \\\n",
       "0             GILBERTO PISELO DO NASCIMENTO       NaN  02/01/2018   \n",
       "1  TRANSCONTINENTAL AGÊNCIA DE VIAGENS LTDA    M2CJMM  02/01/2018   \n",
       "2  TRANSCONTINENTAL AGÊNCIA DE VIAGENS LTDA    SFEXYF  02/01/2018   \n",
       "3  TRANSCONTINENTAL AGÊNCIA DE VIAGENS LTDA    V64HTR  24/01/2018   \n",
       "4             GILBERTO PISELO DO NASCIMENTO    002/18  01/02/2018   \n",
       "\n",
       "                                        DETALHAMENTO VALOR_REEMBOLSADO  \n",
       "0  Despesa com pagamento de aluguel de imóvel par...              6000  \n",
       "1  Companhia Aérea: AVIANCA, Localizador: M2CJMM....            274,99  \n",
       "2  Companhia Aérea: LATAM, Localizador: SFEXYF. P...           1094,29  \n",
       "3  Companhia Aérea: AZUL, Localizador: V64HTR. Pa...           1553,99  \n",
       "4  Despesa com pagamento de aluguel de imóvel par...              6000  "
      ]
     },
     "execution_count": 15,
     "metadata": {},
     "output_type": "execute_result"
    }
   ],
   "source": [
    "df.head()"
   ]
  },
  {
   "cell_type": "code",
   "execution_count": 16,
   "metadata": {},
   "outputs": [
    {
     "data": {
      "text/plain": [
       "array([[<matplotlib.axes._subplots.AxesSubplot object at 0x7effc618d550>,\n",
       "        <matplotlib.axes._subplots.AxesSubplot object at 0x7effc5370be0>]],\n",
       "      dtype=object)"
      ]
     },
     "execution_count": 16,
     "metadata": {},
     "output_type": "execute_result"
    },
    {
     "data": {
      "image/png": "[encoded data removed]",
      "text/plain": [
       "<Figure size 432x288 with 2 Axes>"
      ]
     },
     "metadata": {
      "needs_background": "light"
     },
     "output_type": "display_data"
    }
   ],
   "source": [
    "df.hist()"
   ]
  },
  {
   "cell_type": "code",
   "execution_count": 17,
   "metadata": {},
   "outputs": [
    {
     "data": {
      "text/plain": [
       "ANO                  float64\n",
       "MES                  float64\n",
       "SENADOR               object\n",
       "TIPO_DESPESA          object\n",
       "CNPJ_CPF              object\n",
       "FORNECEDOR            object\n",
       "DOCUMENTO             object\n",
       "DATA                  object\n",
       "DETALHAMENTO          object\n",
       "VALOR_REEMBOLSADO     object\n",
       "dtype: object"
      ]
     },
     "execution_count": 17,
     "metadata": {},
     "output_type": "execute_result"
    }
   ],
   "source": [
    "df.dtypes"
   ]
  },
  {
   "cell_type": "code",
   "execution_count": 18,
   "metadata": {},
   "outputs": [
    {
     "data": {
      "text/plain": [
       "ANO                     1\n",
       "MES                     1\n",
       "SENADOR                 1\n",
       "TIPO_DESPESA            1\n",
       "CNPJ_CPF                1\n",
       "FORNECEDOR              1\n",
       "DOCUMENTO            1017\n",
       "DATA                    1\n",
       "DETALHAMENTO         5611\n",
       "VALOR_REEMBOLSADO       1\n",
       "dtype: int64"
      ]
     },
     "execution_count": 18,
     "metadata": {},
     "output_type": "execute_result"
    }
   ],
   "source": [
    "df.isnull().sum()"
   ]
  },
  {
   "cell_type": "code",
   "execution_count": 19,
   "metadata": {},
   "outputs": [],
   "source": [
    "df.dropna(inplace=True)"
   ]
  },
  {
   "cell_type": "code",
   "execution_count": 20,
   "metadata": {},
   "outputs": [],
   "source": [
    "df[\"VALOR_REEMBOLSADO\"] = df[\"VALOR_REEMBOLSADO\"].str.replace(',', \".\").astype('float')"
   ]
  },
  {
   "cell_type": "code",
   "execution_count": 21,
   "metadata": {},
   "outputs": [
    {
     "data": {
      "text/plain": [
       "ANO                  float64\n",
       "MES                  float64\n",
       "SENADOR               object\n",
       "TIPO_DESPESA          object\n",
       "CNPJ_CPF              object\n",
       "FORNECEDOR            object\n",
       "DOCUMENTO             object\n",
       "DATA                  object\n",
       "DETALHAMENTO          object\n",
       "VALOR_REEMBOLSADO    float64\n",
       "dtype: object"
      ]
     },
     "execution_count": 21,
     "metadata": {},
     "output_type": "execute_result"
    }
   ],
   "source": [
    "df.dtypes"
   ]
  },
  {
   "cell_type": "code",
   "execution_count": 22,
   "metadata": {},
   "outputs": [],
   "source": [
    "gastospoliticos= {}"
   ]
  },
  {
   "cell_type": "code",
   "execution_count": 23,
   "metadata": {},
   "outputs": [],
   "source": [
    "politicos = df['SENADOR'].unique()"
   ]
  },
  {
   "cell_type": "code",
   "execution_count": 24,
   "metadata": {},
   "outputs": [
    {
     "data": {
      "text/plain": [
       "array(['ACIR GURGACZ', 'AÉCIO NEVES', 'AIRTON SANDOVAL', 'ALVARO DIAS',\n",
       "       'ANA AMÉLIA', 'ÂNGELA PORTELA', 'ANTONIO ANASTASIA',\n",
       "       'ANTÔNIO CARLOS VALADARES', 'ARMANDO MONTEIRO', 'ATAÍDES OLIVEIRA'],\n",
       "      dtype=object)"
      ]
     },
     "execution_count": 24,
     "metadata": {},
     "output_type": "execute_result"
    }
   ],
   "source": [
    "politicos[0:10]"
   ]
  },
  {
   "cell_type": "code",
   "execution_count": 25,
   "metadata": {},
   "outputs": [],
   "source": [
    "for z in politicos:\n",
    "    z_nomes = df[df['SENADOR']==z]\n",
    "    totalgastos = z_nomes['VALOR_REEMBOLSADO'].sum()\n",
    "    gastospoliticos[z] = totalgastos\n",
    "    gastos_senador = pd.DataFrame.from_dict(gastospoliticos, orient = 'index')\n",
    "    gastos_senador.columns = ['VALOR_REEMBOLSADO']\n",
    "    \n",
    "    \n",
    "    "
   ]
  },
  {
   "cell_type": "code",
   "execution_count": 26,
   "metadata": {},
   "outputs": [
    {
     "data": {
      "text/html": [
       "<div>\n",
       "<style scoped>\n",
       "    .dataframe tbody tr th:only-of-type {\n",
       "        vertical-align: middle;\n",
       "    }\n",
       "\n",
       "    .dataframe tbody tr th {\n",
       "        vertical-align: top;\n",
       "    }\n",
       "\n",
       "    .dataframe thead th {\n",
       "        text-align: right;\n",
       "    }\n",
       "</style>\n",
       "<table border=\"1\" class=\"dataframe\">\n",
       "  <thead>\n",
       "    <tr style=\"text-align: right;\">\n",
       "      <th></th>\n",
       "      <th>VALOR_REEMBOLSADO</th>\n",
       "    </tr>\n",
       "  </thead>\n",
       "  <tbody>\n",
       "    <tr>\n",
       "      <th>ACIR GURGACZ</th>\n",
       "      <td>311797.29</td>\n",
       "    </tr>\n",
       "    <tr>\n",
       "      <th>AÉCIO NEVES</th>\n",
       "      <td>247722.97</td>\n",
       "    </tr>\n",
       "    <tr>\n",
       "      <th>AIRTON SANDOVAL</th>\n",
       "      <td>182856.83</td>\n",
       "    </tr>\n",
       "    <tr>\n",
       "      <th>ALVARO DIAS</th>\n",
       "      <td>39660.38</td>\n",
       "    </tr>\n",
       "    <tr>\n",
       "      <th>ANA AMÉLIA</th>\n",
       "      <td>147226.50</td>\n",
       "    </tr>\n",
       "  </tbody>\n",
       "</table>\n",
       "</div>"
      ],
      "text/plain": [
       "                 VALOR_REEMBOLSADO\n",
       "ACIR GURGACZ             311797.29\n",
       "AÉCIO NEVES              247722.97\n",
       "AIRTON SANDOVAL          182856.83\n",
       "ALVARO DIAS               39660.38\n",
       "ANA AMÉLIA               147226.50"
      ]
     },
     "execution_count": 26,
     "metadata": {},
     "output_type": "execute_result"
    }
   ],
   "source": [
    "gastos_senador.head()"
   ]
  },
  {
   "cell_type": "code",
   "execution_count": 32,
   "metadata": {},
   "outputs": [
    {
     "data": {
      "text/plain": [
       "<matplotlib.axes._subplots.AxesSubplot at 0x7effc5219c50>"
      ]
     },
     "execution_count": 32,
     "metadata": {},
     "output_type": "execute_result"
    },
    {
     "data": {
      "image/png": "[encoded data removed]",
      "text/plain": [
       "<Figure size 720x360 with 1 Axes>"
      ]
     },
     "metadata": {
      "needs_background": "light"
     },
     "output_type": "display_data"
    }
   ],
   "source": [
    "gastos_senador = gastos_senador.sort_values('VALOR_REEMBOLSADO', ascending=False)\n",
    "gastos_senador.head(10).plot(kind = 'barh', figsize=(10,5), color='red', legend=False, grid=True, alpha=0.7)\n"
   ]
  },
  {
   "cell_type": "code",
   "execution_count": null,
   "metadata": {},
   "outputs": [],
   "source": []
  },
  {
   "cell_type": "code",
   "execution_count": null,
   "metadata": {},
   "outputs": [],
   "source": []
  }
 ],
 "metadata": {
  "kernelspec": {
   "display_name": "Python 3",
   "language": "python",
   "name": "python3"
  },
  "language_info": {
   "codemirror_mode": {
    "name": "ipython",
    "version": 3
   },
   "file_extension": ".py",
   "mimetype": "text/x-python",
   "name": "python",
   "nbconvert_exporter": "python",
   "pygments_lexer": "ipython3",
   "version": "3.7.3"
  }
 },
 "nbformat": 4,
 "nbformat_minor": 2
}
