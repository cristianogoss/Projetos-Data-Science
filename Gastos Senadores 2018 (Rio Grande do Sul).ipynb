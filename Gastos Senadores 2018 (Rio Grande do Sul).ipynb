{
 "cells": [
  {
   "cell_type": "code",
   "execution_count": 31,
   "metadata": {},
   "outputs": [],
   "source": [
    "#importando as bibliotecas que vamos usar\n",
    "import pandas as pd\n",
    "import matplotlib as plt\n",
    "import seaborn as sns\n",
    "import numpy as np\n"
   ]
  },
  {
   "cell_type": "code",
   "execution_count": 32,
   "metadata": {},
   "outputs": [],
   "source": [
    "senadores = pd.read_csv(\"2018.csv\", \",\")#lendo o arquivo csv"
   ]
  },
  {
   "cell_type": "code",
   "execution_count": 33,
   "metadata": {},
   "outputs": [
    {
     "data": {
      "text/html": [
       "<div>\n",
       "<style scoped>\n",
       "    .dataframe tbody tr th:only-of-type {\n",
       "        vertical-align: middle;\n",
       "    }\n",
       "\n",
       "    .dataframe tbody tr th {\n",
       "        vertical-align: top;\n",
       "    }\n",
       "\n",
       "    .dataframe thead th {\n",
       "        text-align: right;\n",
       "    }\n",
       "</style>\n",
       "<table border=\"1\" class=\"dataframe\">\n",
       "  <thead>\n",
       "    <tr style=\"text-align: right;\">\n",
       "      <th></th>\n",
       "      <th>ANO</th>\n",
       "      <th>MES</th>\n",
       "      <th>SENADOR</th>\n",
       "      <th>TIPO_DESPESA</th>\n",
       "      <th>CNPJ_CPF</th>\n",
       "      <th>FORNECEDOR</th>\n",
       "      <th>DOCUMENTO</th>\n",
       "      <th>DATA</th>\n",
       "      <th>DETALHAMENTO</th>\n",
       "      <th>VALOR_REEMBOLSADO</th>\n",
       "    </tr>\n",
       "  </thead>\n",
       "  <tbody>\n",
       "    <tr>\n",
       "      <th>0</th>\n",
       "      <td>2018.0</td>\n",
       "      <td>1.0</td>\n",
       "      <td>ACIR GURGACZ</td>\n",
       "      <td>Aluguel de imóveis para escritório político, c...</td>\n",
       "      <td>004.948.028-63</td>\n",
       "      <td>GILBERTO PISELO DO NASCIMENTO</td>\n",
       "      <td>NaN</td>\n",
       "      <td>02/01/2018</td>\n",
       "      <td>Despesa com pagamento de aluguel de imóvel par...</td>\n",
       "      <td>6000</td>\n",
       "    </tr>\n",
       "    <tr>\n",
       "      <th>1</th>\n",
       "      <td>2018.0</td>\n",
       "      <td>1.0</td>\n",
       "      <td>ACIR GURGACZ</td>\n",
       "      <td>Passagens aéreas, aquáticas e terrestres nacio...</td>\n",
       "      <td>63.764.211/0001-10</td>\n",
       "      <td>TRANSCONTINENTAL AGÊNCIA DE VIAGENS LTDA</td>\n",
       "      <td>M2CJMM</td>\n",
       "      <td>02/01/2018</td>\n",
       "      <td>Companhia Aérea: AVIANCA, Localizador: M2CJMM....</td>\n",
       "      <td>274,99</td>\n",
       "    </tr>\n",
       "    <tr>\n",
       "      <th>2</th>\n",
       "      <td>2018.0</td>\n",
       "      <td>1.0</td>\n",
       "      <td>ACIR GURGACZ</td>\n",
       "      <td>Passagens aéreas, aquáticas e terrestres nacio...</td>\n",
       "      <td>63.764.211/0001-10</td>\n",
       "      <td>TRANSCONTINENTAL AGÊNCIA DE VIAGENS LTDA</td>\n",
       "      <td>SFEXYF</td>\n",
       "      <td>02/01/2018</td>\n",
       "      <td>Companhia Aérea: LATAM, Localizador: SFEXYF. P...</td>\n",
       "      <td>1094,29</td>\n",
       "    </tr>\n",
       "    <tr>\n",
       "      <th>3</th>\n",
       "      <td>2018.0</td>\n",
       "      <td>1.0</td>\n",
       "      <td>ACIR GURGACZ</td>\n",
       "      <td>Passagens aéreas, aquáticas e terrestres nacio...</td>\n",
       "      <td>63.764.211/0001-10</td>\n",
       "      <td>TRANSCONTINENTAL AGÊNCIA DE VIAGENS LTDA</td>\n",
       "      <td>V64HTR</td>\n",
       "      <td>24/01/2018</td>\n",
       "      <td>Companhia Aérea: AZUL, Localizador: V64HTR. Pa...</td>\n",
       "      <td>1553,99</td>\n",
       "    </tr>\n",
       "    <tr>\n",
       "      <th>4</th>\n",
       "      <td>2018.0</td>\n",
       "      <td>2.0</td>\n",
       "      <td>ACIR GURGACZ</td>\n",
       "      <td>Aluguel de imóveis para escritório político, c...</td>\n",
       "      <td>004.948.028-63</td>\n",
       "      <td>GILBERTO PISELO DO NASCIMENTO</td>\n",
       "      <td>002/18</td>\n",
       "      <td>01/02/2018</td>\n",
       "      <td>Despesa com pagamento de aluguel de imóvel par...</td>\n",
       "      <td>6000</td>\n",
       "    </tr>\n",
       "  </tbody>\n",
       "</table>\n",
       "</div>"
      ],
      "text/plain": [
       "      ANO  MES       SENADOR  \\\n",
       "0  2018.0  1.0  ACIR GURGACZ   \n",
       "1  2018.0  1.0  ACIR GURGACZ   \n",
       "2  2018.0  1.0  ACIR GURGACZ   \n",
       "3  2018.0  1.0  ACIR GURGACZ   \n",
       "4  2018.0  2.0  ACIR GURGACZ   \n",
       "\n",
       "                                        TIPO_DESPESA            CNPJ_CPF  \\\n",
       "0  Aluguel de imóveis para escritório político, c...      004.948.028-63   \n",
       "1  Passagens aéreas, aquáticas e terrestres nacio...  63.764.211/0001-10   \n",
       "2  Passagens aéreas, aquáticas e terrestres nacio...  63.764.211/0001-10   \n",
       "3  Passagens aéreas, aquáticas e terrestres nacio...  63.764.211/0001-10   \n",
       "4  Aluguel de imóveis para escritório político, c...      004.948.028-63   \n",
       "\n",
       "                                 FORNECEDOR DOCUMENTO        DATA  \\\n",
       "0             GILBERTO PISELO DO NASCIMENTO       NaN  02/01/2018   \n",
       "1  TRANSCONTINENTAL AGÊNCIA DE VIAGENS LTDA    M2CJMM  02/01/2018   \n",
       "2  TRANSCONTINENTAL AGÊNCIA DE VIAGENS LTDA    SFEXYF  02/01/2018   \n",
       "3  TRANSCONTINENTAL AGÊNCIA DE VIAGENS LTDA    V64HTR  24/01/2018   \n",
       "4             GILBERTO PISELO DO NASCIMENTO    002/18  01/02/2018   \n",
       "\n",
       "                                        DETALHAMENTO VALOR_REEMBOLSADO  \n",
       "0  Despesa com pagamento de aluguel de imóvel par...              6000  \n",
       "1  Companhia Aérea: AVIANCA, Localizador: M2CJMM....            274,99  \n",
       "2  Companhia Aérea: LATAM, Localizador: SFEXYF. P...           1094,29  \n",
       "3  Companhia Aérea: AZUL, Localizador: V64HTR. Pa...           1553,99  \n",
       "4  Despesa com pagamento de aluguel de imóvel par...              6000  "
      ]
     },
     "execution_count": 33,
     "metadata": {},
     "output_type": "execute_result"
    }
   ],
   "source": [
    "senadores.head() #abrindo as 5 primeiras do dataset"
   ]
  },
  {
   "cell_type": "code",
   "execution_count": 34,
   "metadata": {},
   "outputs": [
    {
     "data": {
      "text/plain": [
       "ANO                  float64\n",
       "MES                  float64\n",
       "SENADOR               object\n",
       "TIPO_DESPESA          object\n",
       "CNPJ_CPF              object\n",
       "FORNECEDOR            object\n",
       "DOCUMENTO             object\n",
       "DATA                  object\n",
       "DETALHAMENTO          object\n",
       "VALOR_REEMBOLSADO     object\n",
       "dtype: object"
      ]
     },
     "execution_count": 34,
     "metadata": {},
     "output_type": "execute_result"
    }
   ],
   "source": [
    "senadores.dtypes #verificando que tipos de dados contém no dataset"
   ]
  },
  {
   "cell_type": "code",
   "execution_count": 35,
   "metadata": {},
   "outputs": [
    {
     "data": {
      "text/plain": [
       "ANO                     1\n",
       "MES                     1\n",
       "SENADOR                 1\n",
       "TIPO_DESPESA            1\n",
       "CNPJ_CPF                1\n",
       "FORNECEDOR              1\n",
       "DOCUMENTO            1017\n",
       "DATA                    1\n",
       "DETALHAMENTO         5611\n",
       "VALOR_REEMBOLSADO       1\n",
       "dtype: int64"
      ]
     },
     "execution_count": 35,
     "metadata": {},
     "output_type": "execute_result"
    }
   ],
   "source": [
    "senadores.isnull().sum() #verificando valores inválidos no dataset"
   ]
  },
  {
   "cell_type": "code",
   "execution_count": 36,
   "metadata": {},
   "outputs": [
    {
     "data": {
      "text/plain": [
       "DETALHAMENTO         0.229086\n",
       "DOCUMENTO            0.041522\n",
       "VALOR_REEMBOLSADO    0.000041\n",
       "DATA                 0.000041\n",
       "FORNECEDOR           0.000041\n",
       "CNPJ_CPF             0.000041\n",
       "TIPO_DESPESA         0.000041\n",
       "SENADOR              0.000041\n",
       "MES                  0.000041\n",
       "ANO                  0.000041\n",
       "dtype: float64"
      ]
     },
     "execution_count": 36,
     "metadata": {},
     "output_type": "execute_result"
    }
   ],
   "source": [
    "#verificando a porcentagem de erros  dos valores inválidos no dataset\n",
    "(senadores.isnull().sum() / senadores.shape[0]).sort_values(ascending=False)"
   ]
  },
  {
   "cell_type": "code",
   "execution_count": 37,
   "metadata": {},
   "outputs": [],
   "source": [
    "senadores.dropna(inplace=True)#removendo os valores inválidos"
   ]
  },
  {
   "cell_type": "code",
   "execution_count": 38,
   "metadata": {},
   "outputs": [
    {
     "data": {
      "text/plain": [
       "ANO                  0\n",
       "MES                  0\n",
       "SENADOR              0\n",
       "TIPO_DESPESA         0\n",
       "CNPJ_CPF             0\n",
       "FORNECEDOR           0\n",
       "DOCUMENTO            0\n",
       "DATA                 0\n",
       "DETALHAMENTO         0\n",
       "VALOR_REEMBOLSADO    0\n",
       "dtype: int64"
      ]
     },
     "execution_count": 38,
     "metadata": {},
     "output_type": "execute_result"
    }
   ],
   "source": [
    "senadores.isnull().sum()"
   ]
  },
  {
   "cell_type": "code",
   "execution_count": 39,
   "metadata": {},
   "outputs": [],
   "source": [
    "#transformando a coluna \"VALOR_REEMBOLSADO\" de string para float\n",
    "senadores['VALOR_REEMBOLSADO'] = senadores['VALOR_REEMBOLSADO'].str.replace(\",\", \".\").astype('float')"
   ]
  },
  {
   "cell_type": "code",
   "execution_count": 44,
   "metadata": {},
   "outputs": [
    {
     "data": {
      "text/plain": [
       "ANO                  float64\n",
       "MES                  float64\n",
       "SENADOR               object\n",
       "TIPO_DESPESA          object\n",
       "CNPJ_CPF              object\n",
       "FORNECEDOR            object\n",
       "DOCUMENTO             object\n",
       "DATA                  object\n",
       "DETALHAMENTO          object\n",
       "VALOR_REEMBOLSADO    float64\n",
       "dtype: object"
      ]
     },
     "execution_count": 44,
     "metadata": {},
     "output_type": "execute_result"
    }
   ],
   "source": [
    "senadores.dtypes"
   ]
  },
  {
   "cell_type": "code",
   "execution_count": 55,
   "metadata": {},
   "outputs": [],
   "source": [
    "gastos_senadores = {} #dicionário onde vai armazenar cada político e seu gasto"
   ]
  },
  {
   "cell_type": "code",
   "execution_count": 56,
   "metadata": {},
   "outputs": [],
   "source": [
    "#varíável onde estabelece cada senador e seus gastos únicos\n",
    "politicos_senadores = senadores[\"SENADOR\"].unique()"
   ]
  },
  {
   "cell_type": "code",
   "execution_count": 57,
   "metadata": {},
   "outputs": [
    {
     "data": {
      "text/plain": [
       "array(['ACIR GURGACZ', 'AÉCIO NEVES', 'AIRTON SANDOVAL', 'ALVARO DIAS',\n",
       "       'ANA AMÉLIA', 'ÂNGELA PORTELA', 'ANTONIO ANASTASIA',\n",
       "       'ANTÔNIO CARLOS VALADARES', 'ARMANDO MONTEIRO', 'ATAÍDES OLIVEIRA'],\n",
       "      dtype=object)"
      ]
     },
     "execution_count": 57,
     "metadata": {},
     "output_type": "execute_result"
    }
   ],
   "source": [
    "politicos_senadores[0:10] #alguns políticos contidos no arquivo"
   ]
  },
  {
   "cell_type": "code",
   "execution_count": 60,
   "metadata": {},
   "outputs": [],
   "source": [
    "#Vamos criar uma função onde vai ser criado um novo dataframe apenas com os devidos gastos de cada senador\n",
    "for y in politicos_senadores:\n",
    "    y_nomes = senadores[senadores[\"SENADOR\"] == y]\n",
    "    total_gastos = y_nomes[\"VALOR_REEMBOLSADO\"].sum()\n",
    "    gastos_senadores[y] = total_gastos\n",
    "    senador_gasto = pd.DataFrame.from_dict(gastos_senadores, orient = 'index')\n",
    "    senador_gasto.columns = [\"VALOR_REEMBOLSADO\"]"
   ]
  },
  {
   "cell_type": "code",
   "execution_count": 61,
   "metadata": {},
   "outputs": [
    {
     "data": {
      "text/html": [
       "<div>\n",
       "<style scoped>\n",
       "    .dataframe tbody tr th:only-of-type {\n",
       "        vertical-align: middle;\n",
       "    }\n",
       "\n",
       "    .dataframe tbody tr th {\n",
       "        vertical-align: top;\n",
       "    }\n",
       "\n",
       "    .dataframe thead th {\n",
       "        text-align: right;\n",
       "    }\n",
       "</style>\n",
       "<table border=\"1\" class=\"dataframe\">\n",
       "  <thead>\n",
       "    <tr style=\"text-align: right;\">\n",
       "      <th></th>\n",
       "      <th>VALOR_REEMBOLSADO</th>\n",
       "    </tr>\n",
       "  </thead>\n",
       "  <tbody>\n",
       "    <tr>\n",
       "      <th>ACIR GURGACZ</th>\n",
       "      <td>311797.29</td>\n",
       "    </tr>\n",
       "    <tr>\n",
       "      <th>AÉCIO NEVES</th>\n",
       "      <td>247722.97</td>\n",
       "    </tr>\n",
       "    <tr>\n",
       "      <th>AIRTON SANDOVAL</th>\n",
       "      <td>182856.83</td>\n",
       "    </tr>\n",
       "    <tr>\n",
       "      <th>ALVARO DIAS</th>\n",
       "      <td>39660.38</td>\n",
       "    </tr>\n",
       "    <tr>\n",
       "      <th>ANA AMÉLIA</th>\n",
       "      <td>147226.50</td>\n",
       "    </tr>\n",
       "  </tbody>\n",
       "</table>\n",
       "</div>"
      ],
      "text/plain": [
       "                 VALOR_REEMBOLSADO\n",
       "ACIR GURGACZ             311797.29\n",
       "AÉCIO NEVES              247722.97\n",
       "AIRTON SANDOVAL          182856.83\n",
       "ALVARO DIAS               39660.38\n",
       "ANA AMÉLIA               147226.50"
      ]
     },
     "execution_count": 61,
     "metadata": {},
     "output_type": "execute_result"
    }
   ],
   "source": [
    "senador_gasto.head() #Visualizando o novo data dataframe criado"
   ]
  },
  {
   "cell_type": "code",
   "execution_count": 62,
   "metadata": {},
   "outputs": [],
   "source": [
    "#Criando a variável do senador em questão para verificar os seus gastos\n",
    "ana_ameliaRS = senadores[senadores[\"SENADOR\"] == \"ANA AMÉLIA\"].reset_index() "
   ]
  },
  {
   "cell_type": "code",
   "execution_count": 63,
   "metadata": {},
   "outputs": [
    {
     "data": {
      "text/plain": [
       "(495, 11)"
      ]
     },
     "execution_count": 63,
     "metadata": {},
     "output_type": "execute_result"
    }
   ],
   "source": [
    "ana_ameliaRS.shape "
   ]
  },
  {
   "cell_type": "code",
   "execution_count": 64,
   "metadata": {},
   "outputs": [
    {
     "data": {
      "text/html": [
       "<div>\n",
       "<style scoped>\n",
       "    .dataframe tbody tr th:only-of-type {\n",
       "        vertical-align: middle;\n",
       "    }\n",
       "\n",
       "    .dataframe tbody tr th {\n",
       "        vertical-align: top;\n",
       "    }\n",
       "\n",
       "    .dataframe thead th {\n",
       "        text-align: right;\n",
       "    }\n",
       "</style>\n",
       "<table border=\"1\" class=\"dataframe\">\n",
       "  <thead>\n",
       "    <tr style=\"text-align: right;\">\n",
       "      <th></th>\n",
       "      <th>index</th>\n",
       "      <th>ANO</th>\n",
       "      <th>MES</th>\n",
       "      <th>SENADOR</th>\n",
       "      <th>TIPO_DESPESA</th>\n",
       "      <th>CNPJ_CPF</th>\n",
       "      <th>FORNECEDOR</th>\n",
       "      <th>DOCUMENTO</th>\n",
       "      <th>DATA</th>\n",
       "      <th>DETALHAMENTO</th>\n",
       "      <th>VALOR_REEMBOLSADO</th>\n",
       "    </tr>\n",
       "  </thead>\n",
       "  <tbody>\n",
       "    <tr>\n",
       "      <th>0</th>\n",
       "      <td>703</td>\n",
       "      <td>2018.0</td>\n",
       "      <td>1.0</td>\n",
       "      <td>ANA AMÉLIA</td>\n",
       "      <td>Aluguel de imóveis para escritório político, c...</td>\n",
       "      <td>40.432.544/0101-00</td>\n",
       "      <td>Claro S.A</td>\n",
       "      <td>112533</td>\n",
       "      <td>17/01/2018</td>\n",
       "      <td>Despesa com telefone fixo do Escritório Políti...</td>\n",
       "      <td>117.28</td>\n",
       "    </tr>\n",
       "    <tr>\n",
       "      <th>1</th>\n",
       "      <td>704</td>\n",
       "      <td>2018.0</td>\n",
       "      <td>1.0</td>\n",
       "      <td>ANA AMÉLIA</td>\n",
       "      <td>Aluguel de imóveis para escritório político, c...</td>\n",
       "      <td>08.467.115/0001-00</td>\n",
       "      <td>Companhia Estadual de Distribuição de Energia ...</td>\n",
       "      <td>63767096</td>\n",
       "      <td>29/01/2018</td>\n",
       "      <td>Despesa com energia elétrica do Escritório Pol...</td>\n",
       "      <td>238.94</td>\n",
       "    </tr>\n",
       "    <tr>\n",
       "      <th>2</th>\n",
       "      <td>705</td>\n",
       "      <td>2018.0</td>\n",
       "      <td>1.0</td>\n",
       "      <td>ANA AMÉLIA</td>\n",
       "      <td>Aluguel de imóveis para escritório político, c...</td>\n",
       "      <td>92.811.959/0001-25</td>\n",
       "      <td>Fundação Banrisul de Seguridade Social</td>\n",
       "      <td>5208447477</td>\n",
       "      <td>23/01/2018</td>\n",
       "      <td>Despesa com taxa de condomínio do Escritório P...</td>\n",
       "      <td>810.50</td>\n",
       "    </tr>\n",
       "    <tr>\n",
       "      <th>3</th>\n",
       "      <td>706</td>\n",
       "      <td>2018.0</td>\n",
       "      <td>1.0</td>\n",
       "      <td>ANA AMÉLIA</td>\n",
       "      <td>Aluguel de imóveis para escritório político, c...</td>\n",
       "      <td>92.811.959/0001-25</td>\n",
       "      <td>Fundação Banrisul de Seguridade Social</td>\n",
       "      <td>5208447477/1</td>\n",
       "      <td>23/01/2018</td>\n",
       "      <td>Despesa com aluguel do Escritório Político no RS.</td>\n",
       "      <td>1101.12</td>\n",
       "    </tr>\n",
       "    <tr>\n",
       "      <th>4</th>\n",
       "      <td>707</td>\n",
       "      <td>2018.0</td>\n",
       "      <td>1.0</td>\n",
       "      <td>ANA AMÉLIA</td>\n",
       "      <td>Aluguel de imóveis para escritório político, c...</td>\n",
       "      <td>92.811.959/0001-25</td>\n",
       "      <td>Fundação Banrisul de Seguridade Social</td>\n",
       "      <td>63767096/3</td>\n",
       "      <td>23/01/2018</td>\n",
       "      <td>Despesa com pagamento de IPTU do Escritório Po...</td>\n",
       "      <td>1351.07</td>\n",
       "    </tr>\n",
       "  </tbody>\n",
       "</table>\n",
       "</div>"
      ],
      "text/plain": [
       "   index     ANO  MES     SENADOR  \\\n",
       "0    703  2018.0  1.0  ANA AMÉLIA   \n",
       "1    704  2018.0  1.0  ANA AMÉLIA   \n",
       "2    705  2018.0  1.0  ANA AMÉLIA   \n",
       "3    706  2018.0  1.0  ANA AMÉLIA   \n",
       "4    707  2018.0  1.0  ANA AMÉLIA   \n",
       "\n",
       "                                        TIPO_DESPESA            CNPJ_CPF  \\\n",
       "0  Aluguel de imóveis para escritório político, c...  40.432.544/0101-00   \n",
       "1  Aluguel de imóveis para escritório político, c...  08.467.115/0001-00   \n",
       "2  Aluguel de imóveis para escritório político, c...  92.811.959/0001-25   \n",
       "3  Aluguel de imóveis para escritório político, c...  92.811.959/0001-25   \n",
       "4  Aluguel de imóveis para escritório político, c...  92.811.959/0001-25   \n",
       "\n",
       "                                          FORNECEDOR     DOCUMENTO  \\\n",
       "0                                          Claro S.A        112533   \n",
       "1  Companhia Estadual de Distribuição de Energia ...      63767096   \n",
       "2             Fundação Banrisul de Seguridade Social    5208447477   \n",
       "3             Fundação Banrisul de Seguridade Social  5208447477/1   \n",
       "4             Fundação Banrisul de Seguridade Social    63767096/3   \n",
       "\n",
       "         DATA                                       DETALHAMENTO  \\\n",
       "0  17/01/2018  Despesa com telefone fixo do Escritório Políti...   \n",
       "1  29/01/2018  Despesa com energia elétrica do Escritório Pol...   \n",
       "2  23/01/2018  Despesa com taxa de condomínio do Escritório P...   \n",
       "3  23/01/2018  Despesa com aluguel do Escritório Político no RS.   \n",
       "4  23/01/2018  Despesa com pagamento de IPTU do Escritório Po...   \n",
       "\n",
       "   VALOR_REEMBOLSADO  \n",
       "0             117.28  \n",
       "1             238.94  \n",
       "2             810.50  \n",
       "3            1101.12  \n",
       "4            1351.07  "
      ]
     },
     "execution_count": 64,
     "metadata": {},
     "output_type": "execute_result"
    }
   ],
   "source": [
    "ana_ameliaRS.head() #Visualizando as 5 primeiras linhas "
   ]
  },
  {
   "cell_type": "code",
   "execution_count": 66,
   "metadata": {},
   "outputs": [
    {
     "data": {
      "text/html": [
       "<div>\n",
       "<style scoped>\n",
       "    .dataframe tbody tr th:only-of-type {\n",
       "        vertical-align: middle;\n",
       "    }\n",
       "\n",
       "    .dataframe tbody tr th {\n",
       "        vertical-align: top;\n",
       "    }\n",
       "\n",
       "    .dataframe thead th {\n",
       "        text-align: right;\n",
       "    }\n",
       "</style>\n",
       "<table border=\"1\" class=\"dataframe\">\n",
       "  <thead>\n",
       "    <tr style=\"text-align: right;\">\n",
       "      <th></th>\n",
       "      <th>VALOR_REEMBOLSADO</th>\n",
       "    </tr>\n",
       "    <tr>\n",
       "      <th>TIPO_DESPESA</th>\n",
       "      <th></th>\n",
       "    </tr>\n",
       "  </thead>\n",
       "  <tbody>\n",
       "    <tr>\n",
       "      <th>Passagens aéreas, aquáticas e terrestres nacionais</th>\n",
       "      <td>59582.68</td>\n",
       "    </tr>\n",
       "    <tr>\n",
       "      <th>Locomoção, hospedagem, alimentação, combustíveis e lubrificantes</th>\n",
       "      <td>37289.28</td>\n",
       "    </tr>\n",
       "    <tr>\n",
       "      <th>Aluguel de imóveis para escritório político, compreendendo despesas concernentes a eles.</th>\n",
       "      <td>27970.60</td>\n",
       "    </tr>\n",
       "    <tr>\n",
       "      <th>Contratação de consultorias, assessorias, pesquisas, trabalhos técnicos e outros serviços de apoio ao exercício do mandato parlamentar</th>\n",
       "      <td>16700.00</td>\n",
       "    </tr>\n",
       "    <tr>\n",
       "      <th>Aquisição de material de consumo para uso no escritório político, inclusive aquisição ou locação de software, despesas postais, aquisição de publicações, locação de móveis e de equipamentos.</th>\n",
       "      <td>5683.94</td>\n",
       "    </tr>\n",
       "  </tbody>\n",
       "</table>\n",
       "</div>"
      ],
      "text/plain": [
       "                                                    VALOR_REEMBOLSADO\n",
       "TIPO_DESPESA                                                         \n",
       "Passagens aéreas, aquáticas e terrestres nacionais           59582.68\n",
       "Locomoção, hospedagem, alimentação, combustívei...           37289.28\n",
       "Aluguel de imóveis para escritório político, co...           27970.60\n",
       "Contratação de consultorias, assessorias, pesqu...           16700.00\n",
       "Aquisição de material de consumo para uso no es...            5683.94"
      ]
     },
     "execution_count": 66,
     "metadata": {},
     "output_type": "execute_result"
    }
   ],
   "source": [
    "#Vamos criar a função onde vai definir em que tipo de gastos o senador foi reembolsado\n",
    "def cat_gastos(senador):\n",
    "    nome_senador = senadores[senadores['SENADOR'] == senador]\n",
    "    nome_senador = nome_senador.groupby('TIPO_DESPESA')[['SENADOR', 'VALOR_REEMBOLSADO']].sum()\n",
    "    return nome_senador\n",
    "\n",
    "ana = cat_gastos('ANA AMÉLIA')\n",
    "ana.sort_values(by='VALOR_REEMBOLSADO', ascending = False)"
   ]
  },
  {
   "cell_type": "code",
   "execution_count": 77,
   "metadata": {},
   "outputs": [
    {
     "data": {
      "text/plain": [
       "<matplotlib.axes._subplots.AxesSubplot at 0x7f7fe2d537b8>"
      ]
     },
     "execution_count": 77,
     "metadata": {},
     "output_type": "execute_result"
    },
    {
     "data": {
      "image/png": "[encoded data removed]",
      "text/plain": [
       "<Figure size 648x360 with 1 Axes>"
      ]
     },
     "metadata": {
      "needs_background": "light"
     },
     "output_type": "display_data"
    }
   ],
   "source": [
    "despesa_ana = ana_ameliaRS[ana_ameliaRS['TIPO_DESPESA'] == 'Passagens aéreas, aquáticas e terrestres nacionais']\n",
    "plot_despesa = despesa.groupby('MES')['VALOR_REEMBOLSADO'].sum()\n",
    "plot_despesa.plot(title = 'Gastos por mês da senadora Ana Amélia', color = 'red', figsize=(9,5), grid=True)"
   ]
  },
  {
   "cell_type": "code",
   "execution_count": 72,
   "metadata": {},
   "outputs": [],
   "source": [
    "#Criando a variável do senador em questão para verificar os seus gastos\n",
    "paulo_paimRS = senadores[senadores[\"SENADOR\"]== \"PAULO PAIM\"].reset_index()"
   ]
  },
  {
   "cell_type": "code",
   "execution_count": 73,
   "metadata": {},
   "outputs": [
    {
     "data": {
      "text/plain": [
       "(547, 11)"
      ]
     },
     "execution_count": 73,
     "metadata": {},
     "output_type": "execute_result"
    }
   ],
   "source": [
    "paulo_paimRS.shape"
   ]
  },
  {
   "cell_type": "code",
   "execution_count": 75,
   "metadata": {},
   "outputs": [
    {
     "data": {
      "text/html": [
       "<div>\n",
       "<style scoped>\n",
       "    .dataframe tbody tr th:only-of-type {\n",
       "        vertical-align: middle;\n",
       "    }\n",
       "\n",
       "    .dataframe tbody tr th {\n",
       "        vertical-align: top;\n",
       "    }\n",
       "\n",
       "    .dataframe thead th {\n",
       "        text-align: right;\n",
       "    }\n",
       "</style>\n",
       "<table border=\"1\" class=\"dataframe\">\n",
       "  <thead>\n",
       "    <tr style=\"text-align: right;\">\n",
       "      <th></th>\n",
       "      <th>index</th>\n",
       "      <th>ANO</th>\n",
       "      <th>MES</th>\n",
       "      <th>SENADOR</th>\n",
       "      <th>TIPO_DESPESA</th>\n",
       "      <th>CNPJ_CPF</th>\n",
       "      <th>FORNECEDOR</th>\n",
       "      <th>DOCUMENTO</th>\n",
       "      <th>DATA</th>\n",
       "      <th>DETALHAMENTO</th>\n",
       "      <th>VALOR_REEMBOLSADO</th>\n",
       "    </tr>\n",
       "  </thead>\n",
       "  <tbody>\n",
       "    <tr>\n",
       "      <th>0</th>\n",
       "      <td>16073</td>\n",
       "      <td>2018.0</td>\n",
       "      <td>1.0</td>\n",
       "      <td>PAULO PAIM</td>\n",
       "      <td>Aluguel de imóveis para escritório político, c...</td>\n",
       "      <td>92.802.784/0001-90</td>\n",
       "      <td>Companhia Riograndense de Saneamento - Corsan</td>\n",
       "      <td>1,00002923962018E+016</td>\n",
       "      <td>05/01/2018</td>\n",
       "      <td>Despesa com água - escritório político.</td>\n",
       "      <td>126.19</td>\n",
       "    </tr>\n",
       "    <tr>\n",
       "      <th>1</th>\n",
       "      <td>16074</td>\n",
       "      <td>2018.0</td>\n",
       "      <td>1.0</td>\n",
       "      <td>PAULO PAIM</td>\n",
       "      <td>Aluguel de imóveis para escritório político, c...</td>\n",
       "      <td>10.667.527/0001-28</td>\n",
       "      <td>Inviolável Canoas Alarmes Ltda</td>\n",
       "      <td>24524</td>\n",
       "      <td>31/01/2018</td>\n",
       "      <td>Despesa com serviço de vigilância patrimonial ...</td>\n",
       "      <td>869.52</td>\n",
       "    </tr>\n",
       "    <tr>\n",
       "      <th>2</th>\n",
       "      <td>16075</td>\n",
       "      <td>2018.0</td>\n",
       "      <td>1.0</td>\n",
       "      <td>PAULO PAIM</td>\n",
       "      <td>Aluguel de imóveis para escritório político, c...</td>\n",
       "      <td>10.667.527/0001-28</td>\n",
       "      <td>Inviolável Canoas Alarmes Ltda</td>\n",
       "      <td>24525</td>\n",
       "      <td>31/01/2018</td>\n",
       "      <td>Despesa com vigilância patrimonial - Escritóri...</td>\n",
       "      <td>1165.47</td>\n",
       "    </tr>\n",
       "    <tr>\n",
       "      <th>3</th>\n",
       "      <td>16076</td>\n",
       "      <td>2018.0</td>\n",
       "      <td>1.0</td>\n",
       "      <td>PAULO PAIM</td>\n",
       "      <td>Aluguel de imóveis para escritório político, c...</td>\n",
       "      <td>00.108.786/0258-26</td>\n",
       "      <td>NET Serviços de Comunicação S/A</td>\n",
       "      <td>603001023124</td>\n",
       "      <td>25/02/2018</td>\n",
       "      <td>Despesa com Assinatura de TV a cabo - Escritór...</td>\n",
       "      <td>633.67</td>\n",
       "    </tr>\n",
       "    <tr>\n",
       "      <th>4</th>\n",
       "      <td>16077</td>\n",
       "      <td>2018.0</td>\n",
       "      <td>1.0</td>\n",
       "      <td>PAULO PAIM</td>\n",
       "      <td>Aluguel de imóveis para escritório político, c...</td>\n",
       "      <td>02.016.440/0001-62</td>\n",
       "      <td>RGE Sul Distribuidora de Energia S.A</td>\n",
       "      <td>5495228</td>\n",
       "      <td>04/01/2018</td>\n",
       "      <td>Despesa com energia elétrica - Escritório Polí...</td>\n",
       "      <td>99.52</td>\n",
       "    </tr>\n",
       "  </tbody>\n",
       "</table>\n",
       "</div>"
      ],
      "text/plain": [
       "   index     ANO  MES     SENADOR  \\\n",
       "0  16073  2018.0  1.0  PAULO PAIM   \n",
       "1  16074  2018.0  1.0  PAULO PAIM   \n",
       "2  16075  2018.0  1.0  PAULO PAIM   \n",
       "3  16076  2018.0  1.0  PAULO PAIM   \n",
       "4  16077  2018.0  1.0  PAULO PAIM   \n",
       "\n",
       "                                        TIPO_DESPESA            CNPJ_CPF  \\\n",
       "0  Aluguel de imóveis para escritório político, c...  92.802.784/0001-90   \n",
       "1  Aluguel de imóveis para escritório político, c...  10.667.527/0001-28   \n",
       "2  Aluguel de imóveis para escritório político, c...  10.667.527/0001-28   \n",
       "3  Aluguel de imóveis para escritório político, c...  00.108.786/0258-26   \n",
       "4  Aluguel de imóveis para escritório político, c...  02.016.440/0001-62   \n",
       "\n",
       "                                      FORNECEDOR              DOCUMENTO  \\\n",
       "0  Companhia Riograndense de Saneamento - Corsan  1,00002923962018E+016   \n",
       "1                 Inviolável Canoas Alarmes Ltda                  24524   \n",
       "2                 Inviolável Canoas Alarmes Ltda                  24525   \n",
       "3                NET Serviços de Comunicação S/A           603001023124   \n",
       "4           RGE Sul Distribuidora de Energia S.A                5495228   \n",
       "\n",
       "         DATA                                       DETALHAMENTO  \\\n",
       "0  05/01/2018            Despesa com água - escritório político.   \n",
       "1  31/01/2018  Despesa com serviço de vigilância patrimonial ...   \n",
       "2  31/01/2018  Despesa com vigilância patrimonial - Escritóri...   \n",
       "3  25/02/2018  Despesa com Assinatura de TV a cabo - Escritór...   \n",
       "4  04/01/2018  Despesa com energia elétrica - Escritório Polí...   \n",
       "\n",
       "   VALOR_REEMBOLSADO  \n",
       "0             126.19  \n",
       "1             869.52  \n",
       "2            1165.47  \n",
       "3             633.67  \n",
       "4              99.52  "
      ]
     },
     "execution_count": 75,
     "metadata": {},
     "output_type": "execute_result"
    }
   ],
   "source": [
    "paulo_paimRS.head() #Visualizando as 5 primeiras linhas "
   ]
  },
  {
   "cell_type": "code",
   "execution_count": 76,
   "metadata": {},
   "outputs": [
    {
     "data": {
      "text/html": [
       "<div>\n",
       "<style scoped>\n",
       "    .dataframe tbody tr th:only-of-type {\n",
       "        vertical-align: middle;\n",
       "    }\n",
       "\n",
       "    .dataframe tbody tr th {\n",
       "        vertical-align: top;\n",
       "    }\n",
       "\n",
       "    .dataframe thead th {\n",
       "        text-align: right;\n",
       "    }\n",
       "</style>\n",
       "<table border=\"1\" class=\"dataframe\">\n",
       "  <thead>\n",
       "    <tr style=\"text-align: right;\">\n",
       "      <th></th>\n",
       "      <th>VALOR_REEMBOLSADO</th>\n",
       "    </tr>\n",
       "    <tr>\n",
       "      <th>TIPO_DESPESA</th>\n",
       "      <th></th>\n",
       "    </tr>\n",
       "  </thead>\n",
       "  <tbody>\n",
       "    <tr>\n",
       "      <th>Contratação de consultorias, assessorias, pesquisas, trabalhos técnicos e outros serviços de apoio ao exercício do mandato parlamentar</th>\n",
       "      <td>123146.54</td>\n",
       "    </tr>\n",
       "    <tr>\n",
       "      <th>Locomoção, hospedagem, alimentação, combustíveis e lubrificantes</th>\n",
       "      <td>80216.91</td>\n",
       "    </tr>\n",
       "    <tr>\n",
       "      <th>Aluguel de imóveis para escritório político, compreendendo despesas concernentes a eles.</th>\n",
       "      <td>71484.22</td>\n",
       "    </tr>\n",
       "    <tr>\n",
       "      <th>Aquisição de material de consumo para uso no escritório político, inclusive aquisição ou locação de software, despesas postais, aquisição de publicações, locação de móveis e de equipamentos.</th>\n",
       "      <td>63507.65</td>\n",
       "    </tr>\n",
       "    <tr>\n",
       "      <th>Divulgação da atividade parlamentar</th>\n",
       "      <td>44895.00</td>\n",
       "    </tr>\n",
       "    <tr>\n",
       "      <th>Passagens aéreas, aquáticas e terrestres nacionais</th>\n",
       "      <td>32536.79</td>\n",
       "    </tr>\n",
       "  </tbody>\n",
       "</table>\n",
       "</div>"
      ],
      "text/plain": [
       "                                                    VALOR_REEMBOLSADO\n",
       "TIPO_DESPESA                                                         \n",
       "Contratação de consultorias, assessorias, pesqu...          123146.54\n",
       "Locomoção, hospedagem, alimentação, combustívei...           80216.91\n",
       "Aluguel de imóveis para escritório político, co...           71484.22\n",
       "Aquisição de material de consumo para uso no es...           63507.65\n",
       "Divulgação da atividade parlamentar                          44895.00\n",
       "Passagens aéreas, aquáticas e terrestres nacionais           32536.79"
      ]
     },
     "execution_count": 76,
     "metadata": {},
     "output_type": "execute_result"
    }
   ],
   "source": [
    "#Vamos criar a função onde vai definir em que tipo de gastos o senador foi reembolsado\n",
    "paulo = cat_gastos('PAULO PAIM')\n",
    "paulo.sort_values(by='VALOR_REEMBOLSADO', ascending = False)"
   ]
  },
  {
   "cell_type": "code",
   "execution_count": 78,
   "metadata": {},
   "outputs": [
    {
     "data": {
      "text/plain": [
       "<matplotlib.axes._subplots.AxesSubplot at 0x7f7fe2d18240>"
      ]
     },
     "execution_count": 78,
     "metadata": {},
     "output_type": "execute_result"
    },
    {
     "data": {
      "image/png": "[encoded data removed]",
      "text/plain": [
       "<Figure size 648x360 with 1 Axes>"
      ]
     },
     "metadata": {
      "needs_background": "light"
     },
     "output_type": "display_data"
    }
   ],
   "source": [
    "despesa_paulo = paulo_paimRS[paulo_paimRS[\"TIPO_DESPESA\"] == \"Contratação de consultorias, assessorias, pesquisas, trabalhos técnicos e outros serviços de apoio ao exercício do mandato parlamentar\"]\n",
    "plot_despesa = despesa.groupby('MES')['VALOR_REEMBOLSADO'].sum()\n",
    "plot_despesa.plot(title = 'Gastos por mês do senador Paulo Paim', color = 'red', figsize=(9,5), grid=True)"
   ]
  }
 ],
 "metadata": {
  "kernelspec": {
   "display_name": "Python 3",
   "language": "python",
   "name": "python3"
  },
  "language_info": {
   "codemirror_mode": {
    "name": "ipython",
    "version": 3
   },
   "file_extension": ".py",
   "mimetype": "text/x-python",
   "name": "python",
   "nbconvert_exporter": "python",
   "pygments_lexer": "ipython3",
   "version": "3.7.3"
  }
 },
 "nbformat": 4,
 "nbformat_minor": 2
}
